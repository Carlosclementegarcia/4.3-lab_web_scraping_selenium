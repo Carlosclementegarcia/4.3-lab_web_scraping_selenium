{
 "cells": [
  {
   "cell_type": "markdown",
   "metadata": {},
   "source": [
    "# Web Scraping Lab\n",
    "\n",
    "You will find in this notebook some scrapy exercises to practise your scraping skills.\n",
    "\n",
    "**Tips:**\n",
    "\n",
    "- Check the response status code for each request to ensure you have obtained the intended contennt.\n",
    "- Print the response text in each request to understand the kind of info you are getting and its format.\n",
    "- Check for patterns in the response text to extract the data/info requested in each question.\n",
    "- Visit each url and take a look at its source through Chrome DevTools. You'll need to identify the html tags, special class names etc. used for the html content you are expected to extract."
   ]
  },
  {
   "cell_type": "markdown",
   "metadata": {},
   "source": [
    "- [Selenium Doc](https://www.selenium.dev/documentation/)\n",
    "- [Requests library](http://docs.python-requests.org/en/master/#the-user-guide) documentation \n",
    "- [Urllib](https://docs.python.org/3/library/urllib.html#module-urllib)\n",
    "- [re lib](https://docs.python.org/3/library/re.html)\n",
    "- [lxml lib](https://lxml.de/)\n",
    "- [Scrapy](https://scrapy.org/)\n",
    "- [List of HTTP status codes](https://en.wikipedia.org/wiki/List_of_HTTP_status_codes)\n",
    "- [HTML basics](http://www.simplehtmlguide.com/cheatsheet.php)\n",
    "- [CSS basics](https://www.cssbasics.com/#page_start)"
   ]
  },
  {
   "cell_type": "markdown",
   "metadata": {},
   "source": [
    "#### Below are the libraries and modules you may need. `Selenium` and `pandas` are imported for you."
   ]
  },
  {
   "cell_type": "code",
   "execution_count": 121,
   "metadata": {},
   "outputs": [
    {
     "name": "stdout",
     "output_type": "stream",
     "text": [
      "Requirement already satisfied: selenium in c:\\users\\cleme\\anaconda3\\lib\\site-packages (4.9.0)\n",
      "Requirement already satisfied: urllib3[socks]~=1.26 in c:\\users\\cleme\\anaconda3\\lib\\site-packages (from selenium) (1.26.14)\n",
      "Requirement already satisfied: trio-websocket~=0.9 in c:\\users\\cleme\\anaconda3\\lib\\site-packages (from selenium) (0.10.2)\n",
      "Requirement already satisfied: trio~=0.17 in c:\\users\\cleme\\anaconda3\\lib\\site-packages (from selenium) (0.22.0)\n",
      "Requirement already satisfied: certifi>=2021.10.8 in c:\\users\\cleme\\anaconda3\\lib\\site-packages (from selenium) (2022.12.7)\n",
      "Requirement already satisfied: idna in c:\\users\\cleme\\anaconda3\\lib\\site-packages (from trio~=0.17->selenium) (3.4)\n",
      "Requirement already satisfied: exceptiongroup>=1.0.0rc9 in c:\\users\\cleme\\anaconda3\\lib\\site-packages (from trio~=0.17->selenium) (1.1.1)\n",
      "Requirement already satisfied: cffi>=1.14 in c:\\users\\cleme\\anaconda3\\lib\\site-packages (from trio~=0.17->selenium) (1.15.1)\n",
      "Requirement already satisfied: sniffio in c:\\users\\cleme\\anaconda3\\lib\\site-packages (from trio~=0.17->selenium) (1.2.0)\n",
      "Requirement already satisfied: outcome in c:\\users\\cleme\\anaconda3\\lib\\site-packages (from trio~=0.17->selenium) (1.2.0)\n",
      "Requirement already satisfied: sortedcontainers in c:\\users\\cleme\\anaconda3\\lib\\site-packages (from trio~=0.17->selenium) (2.4.0)\n",
      "Requirement already satisfied: async-generator>=1.9 in c:\\users\\cleme\\anaconda3\\lib\\site-packages (from trio~=0.17->selenium) (1.10)\n",
      "Requirement already satisfied: attrs>=19.2.0 in c:\\users\\cleme\\anaconda3\\lib\\site-packages (from trio~=0.17->selenium) (22.1.0)\n",
      "Requirement already satisfied: wsproto>=0.14 in c:\\users\\cleme\\anaconda3\\lib\\site-packages (from trio-websocket~=0.9->selenium) (1.2.0)\n",
      "Requirement already satisfied: PySocks!=1.5.7,<2.0,>=1.5.6 in c:\\users\\cleme\\anaconda3\\lib\\site-packages (from urllib3[socks]~=1.26->selenium) (1.7.1)\n",
      "Requirement already satisfied: pycparser in c:\\users\\cleme\\anaconda3\\lib\\site-packages (from cffi>=1.14->trio~=0.17->selenium) (2.21)\n",
      "Requirement already satisfied: h11<1,>=0.9.0 in c:\\users\\cleme\\anaconda3\\lib\\site-packages (from wsproto>=0.14->trio-websocket~=0.9->selenium) (0.14.0)\n",
      "Note: you may need to restart the kernel to use updated packages.\n"
     ]
    }
   ],
   "source": [
    "\n",
    "pip install selenium"
   ]
  },
  {
   "cell_type": "code",
   "execution_count": 122,
   "metadata": {},
   "outputs": [
    {
     "name": "stdout",
     "output_type": "stream",
     "text": [
      "Requirement already satisfied: webdriver-manager in c:\\users\\cleme\\anaconda3\\lib\\site-packages (3.8.6)\n",
      "Requirement already satisfied: requests in c:\\users\\cleme\\anaconda3\\lib\\site-packages (from webdriver-manager) (2.28.1)\n",
      "Requirement already satisfied: tqdm in c:\\users\\cleme\\anaconda3\\lib\\site-packages (from webdriver-manager) (4.64.1)\n",
      "Requirement already satisfied: python-dotenv in c:\\users\\cleme\\anaconda3\\lib\\site-packages (from webdriver-manager) (1.0.0)\n",
      "Requirement already satisfied: packaging in c:\\users\\cleme\\anaconda3\\lib\\site-packages (from webdriver-manager) (22.0)\n",
      "Requirement already satisfied: certifi>=2017.4.17 in c:\\users\\cleme\\anaconda3\\lib\\site-packages (from requests->webdriver-manager) (2022.12.7)\n",
      "Requirement already satisfied: urllib3<1.27,>=1.21.1 in c:\\users\\cleme\\anaconda3\\lib\\site-packages (from requests->webdriver-manager) (1.26.14)\n",
      "Requirement already satisfied: idna<4,>=2.5 in c:\\users\\cleme\\anaconda3\\lib\\site-packages (from requests->webdriver-manager) (3.4)\n",
      "Requirement already satisfied: charset-normalizer<3,>=2 in c:\\users\\cleme\\anaconda3\\lib\\site-packages (from requests->webdriver-manager) (2.0.4)\n",
      "Requirement already satisfied: colorama in c:\\users\\cleme\\anaconda3\\lib\\site-packages (from tqdm->webdriver-manager) (0.4.6)\n",
      "Note: you may need to restart the kernel to use updated packages.\n"
     ]
    }
   ],
   "source": [
    "%pip install webdriver-manager"
   ]
  },
  {
   "cell_type": "code",
   "execution_count": 1,
   "metadata": {},
   "outputs": [],
   "source": [
    "import pandas as pd\n",
    "\n",
    "from selenium import webdriver\n",
    "from selenium.webdriver.chrome.options import Options\n",
    "from webdriver_manager.chrome import ChromeDriverManager\n",
    "from selenium.webdriver.common.by import By # By es para buscar por tag, clase, id...\n",
    "\n",
    "import time\n",
    "import warnings\n",
    "warnings.filterwarnings('ignore')\n",
    "\n",
    "#driver configuration\n",
    "opciones=Options()\n",
    "\n",
    "opciones.add_experimental_option('excludeSwitches', ['enable-automation'])\n",
    "opciones.add_experimental_option('useAutomationExtension', False)\n",
    "opciones.headless=False    # si True, no aperece la ventana (headless=no visible)\n",
    "opciones.add_argument('--start-maximized')         # comienza maximizado\n",
    "#opciones.add_argument('user-data-dir=selenium')    # mantiene las cookies\n",
    "#opciones.add_extension('driver_folder/adblock.crx')       # adblocker\n",
    "opciones.add_argument('--incognito')"
   ]
  },
  {
   "cell_type": "code",
   "execution_count": 3,
   "metadata": {},
   "outputs": [],
   "source": [
    "PATH = ChromeDriverManager().install()    # instala driver de chrome\n",
    "\n",
    "driver = webdriver.Chrome(PATH)      # abre una ventana de chrome"
   ]
  },
  {
   "cell_type": "markdown",
   "metadata": {},
   "source": [
    "#### Download, parse, and print the content from the Trending Developers page from GitHub:"
   ]
  },
  {
   "cell_type": "code",
   "execution_count": 125,
   "metadata": {},
   "outputs": [],
   "source": [
    "# This is the url you will scrape in this exercise\n",
    "url = 'https://github.com/trending/developers'"
   ]
  },
  {
   "cell_type": "code",
   "execution_count": 126,
   "metadata": {},
   "outputs": [],
   "source": [
    "driver.get(url)"
   ]
  },
  {
   "cell_type": "code",
   "execution_count": 127,
   "metadata": {},
   "outputs": [],
   "source": [
    "# no se puede abrir con selenium\n",
    "lugar = driver.find_elements(By.CLASS_NAME,'col-md-6')\n"
   ]
  },
  {
   "cell_type": "code",
   "execution_count": 128,
   "metadata": {},
   "outputs": [
    {
     "data": {
      "text/plain": [
       "'Mattias Wadman\\nwader'"
      ]
     },
     "execution_count": 128,
     "metadata": {},
     "output_type": "execute_result"
    }
   ],
   "source": [
    "lugar[0].text"
   ]
  },
  {
   "cell_type": "code",
   "execution_count": 129,
   "metadata": {},
   "outputs": [
    {
     "data": {
      "text/plain": [
       "'merrymercy'"
      ]
     },
     "execution_count": 129,
     "metadata": {},
     "output_type": "execute_result"
    }
   ],
   "source": [
    "driver.find_elements(By.XPATH,'//p//a')[1].text"
   ]
  },
  {
   "cell_type": "markdown",
   "metadata": {},
   "source": [
    "#### Display the names of the trending developers retrieved in the previous step.\n",
    "\n",
    "Your output should be a Python list of developer names. Each name should not contain any html tag.\n",
    "\n",
    "**Instructions:**\n",
    "\n",
    "1. Find out the html tag and class names used for the developer names.\n",
    "\n",
    "1. Use string manipulation techniques to replace whitespaces and linebreaks (i.e. `\\n`) in the *text* of each html element. Use a list to store the clean names.\n",
    "\n",
    "1. Print the list of names.\n",
    "\n",
    "Your output should look like below:\n",
    "\n",
    "```\n",
    "['trimstray (@trimstray)',\n",
    " 'joewalnes (JoeWalnes)',\n",
    " 'charlax (Charles-AxelDein)',\n",
    " 'ForrestKnight (ForrestKnight)',\n",
    " 'revery-ui (revery-ui)',\n",
    " 'alibaba (Alibaba)',\n",
    " 'Microsoft (Microsoft)',\n",
    " 'github (GitHub)',\n",
    " 'facebook (Facebook)',\n",
    " 'boazsegev (Bo)',\n",
    " 'google (Google)',\n",
    " 'cloudfetch',\n",
    " 'sindresorhus (SindreSorhus)',\n",
    " 'tensorflow',\n",
    " 'apache (TheApacheSoftwareFoundation)',\n",
    " 'DevonCrawford (DevonCrawford)',\n",
    " 'ARMmbed (ArmMbed)',\n",
    " 'vuejs (vuejs)',\n",
    " 'fastai (fast.ai)',\n",
    " 'QiShaoXuan (Qi)',\n",
    " 'joelparkerhenderson (JoelParkerHenderson)',\n",
    " 'torvalds (LinusTorvalds)',\n",
    " 'CyC2018',\n",
    " 'komeiji-satori (神楽坂覚々)',\n",
    " 'script-8']\n",
    " ```"
   ]
  },
  {
   "cell_type": "code",
   "execution_count": 130,
   "metadata": {},
   "outputs": [
    {
     "data": {
      "text/plain": [
       "[<selenium.webdriver.remote.webelement.WebElement (session=\"801c0ba6a7e8e640f35d00e044377926\", element=\"2c320fcd-a7ef-4043-8bec-6f3fd6c88797\")>,\n",
       " <selenium.webdriver.remote.webelement.WebElement (session=\"801c0ba6a7e8e640f35d00e044377926\", element=\"cca1dc02-8595-4959-9aae-113f455212d1\")>,\n",
       " <selenium.webdriver.remote.webelement.WebElement (session=\"801c0ba6a7e8e640f35d00e044377926\", element=\"97177219-d158-4b92-8e49-a34bf5c94267\")>,\n",
       " <selenium.webdriver.remote.webelement.WebElement (session=\"801c0ba6a7e8e640f35d00e044377926\", element=\"232f5f75-d7c4-4db6-a760-66f6779128f0\")>,\n",
       " <selenium.webdriver.remote.webelement.WebElement (session=\"801c0ba6a7e8e640f35d00e044377926\", element=\"3281f558-0b14-44a9-8077-5110319300cc\")>,\n",
       " <selenium.webdriver.remote.webelement.WebElement (session=\"801c0ba6a7e8e640f35d00e044377926\", element=\"bd3006c6-af79-4128-b10e-3a808306926f\")>,\n",
       " <selenium.webdriver.remote.webelement.WebElement (session=\"801c0ba6a7e8e640f35d00e044377926\", element=\"fc7f6dbb-2b8a-4e3d-9a0d-391823b3db29\")>,\n",
       " <selenium.webdriver.remote.webelement.WebElement (session=\"801c0ba6a7e8e640f35d00e044377926\", element=\"9daaee90-74fe-4fca-9473-bec86153813a\")>,\n",
       " <selenium.webdriver.remote.webelement.WebElement (session=\"801c0ba6a7e8e640f35d00e044377926\", element=\"1c68249c-1c08-41c3-b6f2-ed949d90d73b\")>,\n",
       " <selenium.webdriver.remote.webelement.WebElement (session=\"801c0ba6a7e8e640f35d00e044377926\", element=\"bb7bedb9-38bf-489a-a1cf-a2489b3f6fa3\")>,\n",
       " <selenium.webdriver.remote.webelement.WebElement (session=\"801c0ba6a7e8e640f35d00e044377926\", element=\"d9769cb5-6d3f-4db2-a8dc-d42c1d0236a4\")>,\n",
       " <selenium.webdriver.remote.webelement.WebElement (session=\"801c0ba6a7e8e640f35d00e044377926\", element=\"103dd440-dfb6-4859-9f10-aba32318ab4c\")>,\n",
       " <selenium.webdriver.remote.webelement.WebElement (session=\"801c0ba6a7e8e640f35d00e044377926\", element=\"515df3ca-1d67-4b15-b66b-5994329c7037\")>,\n",
       " <selenium.webdriver.remote.webelement.WebElement (session=\"801c0ba6a7e8e640f35d00e044377926\", element=\"0199aba2-ef71-49e8-99d9-4d49f1dd9cbf\")>,\n",
       " <selenium.webdriver.remote.webelement.WebElement (session=\"801c0ba6a7e8e640f35d00e044377926\", element=\"bf1c00da-6279-4b91-b4e4-7b1c0320e08a\")>,\n",
       " <selenium.webdriver.remote.webelement.WebElement (session=\"801c0ba6a7e8e640f35d00e044377926\", element=\"cd917ca5-4977-4f53-bdf8-cc3de39f1c53\")>,\n",
       " <selenium.webdriver.remote.webelement.WebElement (session=\"801c0ba6a7e8e640f35d00e044377926\", element=\"9d6c03d2-6d35-4d0a-854f-1594c91e36ff\")>,\n",
       " <selenium.webdriver.remote.webelement.WebElement (session=\"801c0ba6a7e8e640f35d00e044377926\", element=\"cda1d0ad-20c8-458b-ba24-13df12161cf5\")>,\n",
       " <selenium.webdriver.remote.webelement.WebElement (session=\"801c0ba6a7e8e640f35d00e044377926\", element=\"6615e1d3-302d-4049-ac3a-79b419f87b2e\")>,\n",
       " <selenium.webdriver.remote.webelement.WebElement (session=\"801c0ba6a7e8e640f35d00e044377926\", element=\"9ac7be64-3c8f-4ad0-9f9a-ac659367e847\")>,\n",
       " <selenium.webdriver.remote.webelement.WebElement (session=\"801c0ba6a7e8e640f35d00e044377926\", element=\"74a50f00-c205-48fb-9088-76c6624fe8bf\")>,\n",
       " <selenium.webdriver.remote.webelement.WebElement (session=\"801c0ba6a7e8e640f35d00e044377926\", element=\"d2a349dd-fc1c-41e2-8c66-ad456d5f8e23\")>,\n",
       " <selenium.webdriver.remote.webelement.WebElement (session=\"801c0ba6a7e8e640f35d00e044377926\", element=\"cf93b205-9c47-42cb-a883-134ec2ce6699\")>,\n",
       " <selenium.webdriver.remote.webelement.WebElement (session=\"801c0ba6a7e8e640f35d00e044377926\", element=\"8eb62dca-541f-4640-ba2f-754cf71d946d\")>,\n",
       " <selenium.webdriver.remote.webelement.WebElement (session=\"801c0ba6a7e8e640f35d00e044377926\", element=\"f5b554a6-4917-449b-a995-a7e852faee98\")>]"
      ]
     },
     "execution_count": 130,
     "metadata": {},
     "output_type": "execute_result"
    }
   ],
   "source": [
    "#your code\n",
    "lugar = driver.find_elements(By.CLASS_NAME, 'h3.lh-condensed')\n",
    "lugar"
   ]
  },
  {
   "cell_type": "code",
   "execution_count": 131,
   "metadata": {},
   "outputs": [],
   "source": [
    "lugar = [e.text for e in lugar]\n"
   ]
  },
  {
   "cell_type": "code",
   "execution_count": 132,
   "metadata": {},
   "outputs": [
    {
     "data": {
      "text/plain": [
       "['Mattias Wadman',\n",
       " 'lllyasviel',\n",
       " 'Lianmin Zheng',\n",
       " 'Jerry Liu',\n",
       " 'Henrik Rydgård',\n",
       " 'Harrison Chase',\n",
       " 'Fons van der Plas',\n",
       " 'Steven Tey',\n",
       " 'Andreas Thomas',\n",
       " 'pilcrowOnPaper',\n",
       " 'Laurent Mazare',\n",
       " 'yetone',\n",
       " 'Tom Payne',\n",
       " 'Raphaël Benitte',\n",
       " 'Dillon Nys',\n",
       " 'Will McGugan',\n",
       " 'Luca Palmieri',\n",
       " 'Payton Swick',\n",
       " 'Martí Climent',\n",
       " 'dgtlmoon',\n",
       " 'Jelle Zijlstra',\n",
       " 'J. Nick Koston',\n",
       " 'Nuno Campos',\n",
       " 'Juliette',\n",
       " 'Lee Robinson']"
      ]
     },
     "execution_count": 132,
     "metadata": {},
     "output_type": "execute_result"
    }
   ],
   "source": [
    "lugar"
   ]
  },
  {
   "cell_type": "markdown",
   "metadata": {},
   "source": [
    "#### Display the trending Python repositories in GitHub\n",
    "\n",
    "The steps to solve this problem is similar to the previous one except that you need to find out the repository names instead of developer names."
   ]
  },
  {
   "cell_type": "code",
   "execution_count": 133,
   "metadata": {},
   "outputs": [],
   "source": [
    "# This is the url you will scrape in this exercise\n",
    "url = 'https://github.com/trending/python?since=daily'"
   ]
  },
  {
   "cell_type": "code",
   "execution_count": 134,
   "metadata": {},
   "outputs": [],
   "source": [
    "#your code\n",
    "driver.get(url)"
   ]
  },
  {
   "cell_type": "code",
   "execution_count": null,
   "metadata": {},
   "outputs": [],
   "source": []
  },
  {
   "cell_type": "code",
   "execution_count": null,
   "metadata": {},
   "outputs": [],
   "source": []
  },
  {
   "cell_type": "markdown",
   "metadata": {},
   "source": [
    "#### Display all the image links from Walt Disney wikipedia page"
   ]
  },
  {
   "cell_type": "code",
   "execution_count": 46,
   "metadata": {},
   "outputs": [],
   "source": [
    "# This is the url you will scrape in this exercise\n",
    "url1= 'https://en.wikipedia.org/wiki/Walt_Disney'"
   ]
  },
  {
   "cell_type": "code",
   "execution_count": 47,
   "metadata": {},
   "outputs": [],
   "source": [
    "PATH = ChromeDriverManager().install()    # instala driver de chrome\n",
    "\n",
    "driver = webdriver.Chrome(PATH)      # abre una ventana de chrome"
   ]
  },
  {
   "cell_type": "code",
   "execution_count": 48,
   "metadata": {},
   "outputs": [],
   "source": [
    "driver.get(url1)"
   ]
  },
  {
   "cell_type": "code",
   "execution_count": 51,
   "metadata": {},
   "outputs": [
    {
     "data": {
      "text/plain": [
       "[<selenium.webdriver.remote.webelement.WebElement (session=\"ddf197a6a9734c3010e34e922f3a3928\", element=\"7c4caea1-ae8d-43cf-967d-6390feef4f69\")>,\n",
       " <selenium.webdriver.remote.webelement.WebElement (session=\"ddf197a6a9734c3010e34e922f3a3928\", element=\"ad62ba25-fc5f-4caa-a76c-715bcccbb30b\")>,\n",
       " <selenium.webdriver.remote.webelement.WebElement (session=\"ddf197a6a9734c3010e34e922f3a3928\", element=\"1da74bdc-5240-4a41-b006-d79502d3bca4\")>,\n",
       " <selenium.webdriver.remote.webelement.WebElement (session=\"ddf197a6a9734c3010e34e922f3a3928\", element=\"d4cbcff8-adb4-4412-b8ec-33998ab90847\")>,\n",
       " <selenium.webdriver.remote.webelement.WebElement (session=\"ddf197a6a9734c3010e34e922f3a3928\", element=\"b88f77d8-cf2b-4295-99e2-8eef117e7467\")>,\n",
       " <selenium.webdriver.remote.webelement.WebElement (session=\"ddf197a6a9734c3010e34e922f3a3928\", element=\"92758f99-5c4b-4ca7-bd74-d028dfe426d8\")>,\n",
       " <selenium.webdriver.remote.webelement.WebElement (session=\"ddf197a6a9734c3010e34e922f3a3928\", element=\"65723b8f-272f-4828-8a52-fb4bc4d476a8\")>,\n",
       " <selenium.webdriver.remote.webelement.WebElement (session=\"ddf197a6a9734c3010e34e922f3a3928\", element=\"7f96fbf1-3f30-4d69-9061-551c5b780911\")>,\n",
       " <selenium.webdriver.remote.webelement.WebElement (session=\"ddf197a6a9734c3010e34e922f3a3928\", element=\"0241d892-3e02-42c2-8998-a4204f369e20\")>,\n",
       " <selenium.webdriver.remote.webelement.WebElement (session=\"ddf197a6a9734c3010e34e922f3a3928\", element=\"a77b39f9-f1cc-405d-b5a7-12245a18879e\")>,\n",
       " <selenium.webdriver.remote.webelement.WebElement (session=\"ddf197a6a9734c3010e34e922f3a3928\", element=\"681e9ff4-e0cb-4f85-af1d-8c6f8b3ceb4b\")>,\n",
       " <selenium.webdriver.remote.webelement.WebElement (session=\"ddf197a6a9734c3010e34e922f3a3928\", element=\"37b76950-46da-422a-99b4-0ec0f4cbeeb8\")>,\n",
       " <selenium.webdriver.remote.webelement.WebElement (session=\"ddf197a6a9734c3010e34e922f3a3928\", element=\"a0076d68-0ec3-4271-a9a6-52a73f5fd875\")>,\n",
       " <selenium.webdriver.remote.webelement.WebElement (session=\"ddf197a6a9734c3010e34e922f3a3928\", element=\"ab650b93-48c9-4e02-8d46-939df542c97e\")>,\n",
       " <selenium.webdriver.remote.webelement.WebElement (session=\"ddf197a6a9734c3010e34e922f3a3928\", element=\"8554c6fe-80ed-4cfb-8f2e-49125d3bafb6\")>]"
      ]
     },
     "execution_count": 51,
     "metadata": {},
     "output_type": "execute_result"
    }
   ],
   "source": [
    "foto = driver.find_elements(By.CLASS_NAME,'thumbinner')\n",
    "foto"
   ]
  },
  {
   "cell_type": "code",
   "execution_count": 52,
   "metadata": {},
   "outputs": [
    {
     "data": {
      "text/plain": [
       "[\"Disney's childhood home\",\n",
       " \"Walt Disney's business envelope featured a self-portrait, c.\\u20091921.\",\n",
       " '3:23\\nNewman Laugh-O-Gram (1921)',\n",
       " 'Theatrical poster for Trolley Troubles (1927)',\n",
       " 'The first appearance of Mickey Mouse, in Steamboat Willie (1928)',\n",
       " 'Disney in 1935 in Place de la Concorde, Paris',\n",
       " 'Walt Disney introduces each of the seven dwarfs in a scene from the original 1937 Snow White theatrical trailer.',\n",
       " 'Disney drawing Goofy for a group of girls in Argentina, 1941',\n",
       " 'Disney shows the plans of Disneyland to officials from Orange County in December 1954.',\n",
       " 'Disney in 1954',\n",
       " 'Grave of Walt Disney at Forest Lawn, Glendale',\n",
       " 'Roy O. Disney finished the building of Walt Disney World.',\n",
       " 'Disney family at Schiphol Airport (1951)',\n",
       " '1968 U.S. postage stamp',\n",
       " 'Disney in 1953, winning the Academy Award for Best Live Action Short Film for Water Birds']"
      ]
     },
     "execution_count": 52,
     "metadata": {},
     "output_type": "execute_result"
    }
   ],
   "source": [
    "[e.text for e in foto]"
   ]
  },
  {
   "cell_type": "markdown",
   "metadata": {},
   "source": [
    "#### Retrieve an arbitary Wikipedia page of \"Python\" and create a list of links on that page"
   ]
  },
  {
   "cell_type": "code",
   "execution_count": null,
   "metadata": {},
   "outputs": [],
   "source": [
    "# This is the url you will scrape in this exercise\n",
    "url ='https://en.wikipedia.org/wiki/Python' "
   ]
  },
  {
   "cell_type": "code",
   "execution_count": 17,
   "metadata": {},
   "outputs": [
    {
     "data": {
      "text/plain": [
       "[<selenium.webdriver.remote.webelement.WebElement (session=\"fd5e4962e5121eae0d70559c32e6ee72\", element=\"32bde2a4-cf49-4ef7-bf68-1ec75121faf4\")>,\n",
       " <selenium.webdriver.remote.webelement.WebElement (session=\"fd5e4962e5121eae0d70559c32e6ee72\", element=\"dc8516e8-6958-46af-9d1e-32d4a1745292\")>,\n",
       " <selenium.webdriver.remote.webelement.WebElement (session=\"fd5e4962e5121eae0d70559c32e6ee72\", element=\"f16f5775-a785-4082-a01b-8b50d0e0f365\")>,\n",
       " <selenium.webdriver.remote.webelement.WebElement (session=\"fd5e4962e5121eae0d70559c32e6ee72\", element=\"917977d7-178b-4e9a-8150-a65ce11f52a3\")>,\n",
       " <selenium.webdriver.remote.webelement.WebElement (session=\"fd5e4962e5121eae0d70559c32e6ee72\", element=\"caab35f5-56aa-4270-9994-400be63c5027\")>,\n",
       " <selenium.webdriver.remote.webelement.WebElement (session=\"fd5e4962e5121eae0d70559c32e6ee72\", element=\"a19104e8-4ab9-4093-a8c4-399dc7755cbe\")>,\n",
       " <selenium.webdriver.remote.webelement.WebElement (session=\"fd5e4962e5121eae0d70559c32e6ee72\", element=\"217cba7b-0504-4184-bfd2-a796a0887d5e\")>,\n",
       " <selenium.webdriver.remote.webelement.WebElement (session=\"fd5e4962e5121eae0d70559c32e6ee72\", element=\"43937c57-5f33-4513-a697-d2314a8a9595\")>,\n",
       " <selenium.webdriver.remote.webelement.WebElement (session=\"fd5e4962e5121eae0d70559c32e6ee72\", element=\"c53317a1-eaf5-4115-b4d6-70819e4d0b50\")>,\n",
       " <selenium.webdriver.remote.webelement.WebElement (session=\"fd5e4962e5121eae0d70559c32e6ee72\", element=\"9427fdc5-4069-4de9-a5a6-54ab246f803a\")>,\n",
       " <selenium.webdriver.remote.webelement.WebElement (session=\"fd5e4962e5121eae0d70559c32e6ee72\", element=\"b44bcf4b-7fbc-4b4a-834e-61e7f5cd06ec\")>,\n",
       " <selenium.webdriver.remote.webelement.WebElement (session=\"fd5e4962e5121eae0d70559c32e6ee72\", element=\"eceed4fc-2dc3-4098-8228-97bde806f583\")>,\n",
       " <selenium.webdriver.remote.webelement.WebElement (session=\"fd5e4962e5121eae0d70559c32e6ee72\", element=\"583e6cfe-c96a-4495-afee-c5651afa2bc1\")>,\n",
       " <selenium.webdriver.remote.webelement.WebElement (session=\"fd5e4962e5121eae0d70559c32e6ee72\", element=\"e986fa8d-ba62-4827-beb7-d46dbd591a42\")>,\n",
       " <selenium.webdriver.remote.webelement.WebElement (session=\"fd5e4962e5121eae0d70559c32e6ee72\", element=\"d6531c09-8205-42b3-bee1-36d6e076ddcb\")>]"
      ]
     },
     "execution_count": 17,
     "metadata": {},
     "output_type": "execute_result"
    }
   ],
   "source": [
    "imagen = driver.find_elements(By.CLASS_NAME, 'thumbinner')\n",
    "imagen"
   ]
  },
  {
   "cell_type": "code",
   "execution_count": null,
   "metadata": {},
   "outputs": [],
   "source": []
  },
  {
   "cell_type": "markdown",
   "metadata": {},
   "source": [
    "#### Number of Titles that have changed in the United States Code since its last release point "
   ]
  },
  {
   "cell_type": "code",
   "execution_count": 24,
   "metadata": {},
   "outputs": [],
   "source": [
    "# This is the url you will scrape in this exercise\n",
    "url = 'http://uscode.house.gov/download/download.shtml'"
   ]
  },
  {
   "cell_type": "code",
   "execution_count": 25,
   "metadata": {},
   "outputs": [],
   "source": [
    "#your code\n",
    "PATH = ChromeDriverManager().install()    # instala driver de chrome\n",
    "\n",
    "driver = webdriver.Chrome(PATH)      # abre una ventana de chrome\n"
   ]
  },
  {
   "cell_type": "code",
   "execution_count": 26,
   "metadata": {},
   "outputs": [],
   "source": [
    "driver.get(url)"
   ]
  },
  {
   "cell_type": "code",
   "execution_count": 27,
   "metadata": {},
   "outputs": [
    {
     "data": {
      "text/plain": [
       "[<selenium.webdriver.remote.webelement.WebElement (session=\"8e8fc4147d07d394358a33ee008b1b59\", element=\"e2bb597e-393a-4260-8877-66a4c24a8530\")>,\n",
       " <selenium.webdriver.remote.webelement.WebElement (session=\"8e8fc4147d07d394358a33ee008b1b59\", element=\"e291dc20-cd71-4cf4-bc13-8156fb59ed44\")>,\n",
       " <selenium.webdriver.remote.webelement.WebElement (session=\"8e8fc4147d07d394358a33ee008b1b59\", element=\"ddc20d73-6dad-4f32-8ef8-df5a183c7beb\")>,\n",
       " <selenium.webdriver.remote.webelement.WebElement (session=\"8e8fc4147d07d394358a33ee008b1b59\", element=\"728baf85-39bc-4a7c-b3fb-032e69b52aaf\")>,\n",
       " <selenium.webdriver.remote.webelement.WebElement (session=\"8e8fc4147d07d394358a33ee008b1b59\", element=\"94aba172-fccd-4a0e-abd3-09d252df32d1\")>,\n",
       " <selenium.webdriver.remote.webelement.WebElement (session=\"8e8fc4147d07d394358a33ee008b1b59\", element=\"ff818e2d-ae9d-4d5e-b4c3-e82801b80655\")>,\n",
       " <selenium.webdriver.remote.webelement.WebElement (session=\"8e8fc4147d07d394358a33ee008b1b59\", element=\"4e34c996-7734-4111-a750-d39665fd9e2a\")>,\n",
       " <selenium.webdriver.remote.webelement.WebElement (session=\"8e8fc4147d07d394358a33ee008b1b59\", element=\"87e2ad6d-3512-4a8e-89f4-9addee4c4a21\")>,\n",
       " <selenium.webdriver.remote.webelement.WebElement (session=\"8e8fc4147d07d394358a33ee008b1b59\", element=\"53194c02-f0f9-482f-8058-5e9df429e603\")>,\n",
       " <selenium.webdriver.remote.webelement.WebElement (session=\"8e8fc4147d07d394358a33ee008b1b59\", element=\"6f5a08e8-ec76-4a0d-8df9-87ffae545071\")>,\n",
       " <selenium.webdriver.remote.webelement.WebElement (session=\"8e8fc4147d07d394358a33ee008b1b59\", element=\"13a42207-b9db-4dd6-bb7f-d50bbd9c096a\")>,\n",
       " <selenium.webdriver.remote.webelement.WebElement (session=\"8e8fc4147d07d394358a33ee008b1b59\", element=\"0f61a6b3-07b9-46cf-939c-529908512973\")>,\n",
       " <selenium.webdriver.remote.webelement.WebElement (session=\"8e8fc4147d07d394358a33ee008b1b59\", element=\"0a35b6cd-53fe-4db4-9fb4-6cf5ee77c612\")>,\n",
       " <selenium.webdriver.remote.webelement.WebElement (session=\"8e8fc4147d07d394358a33ee008b1b59\", element=\"c7508a29-bea2-46dc-a5e8-f746ac70f0cc\")>,\n",
       " <selenium.webdriver.remote.webelement.WebElement (session=\"8e8fc4147d07d394358a33ee008b1b59\", element=\"fa7c8c7e-14df-491b-9877-2a7bc1611054\")>,\n",
       " <selenium.webdriver.remote.webelement.WebElement (session=\"8e8fc4147d07d394358a33ee008b1b59\", element=\"42d3f121-fa93-44b7-9f1e-d38f9da9ffc7\")>,\n",
       " <selenium.webdriver.remote.webelement.WebElement (session=\"8e8fc4147d07d394358a33ee008b1b59\", element=\"318aa426-6399-47fb-9b3a-e53592a4bef2\")>,\n",
       " <selenium.webdriver.remote.webelement.WebElement (session=\"8e8fc4147d07d394358a33ee008b1b59\", element=\"497f061f-298a-4487-8320-48b03515521d\")>,\n",
       " <selenium.webdriver.remote.webelement.WebElement (session=\"8e8fc4147d07d394358a33ee008b1b59\", element=\"e41fc118-8ece-440c-b938-441808356f00\")>,\n",
       " <selenium.webdriver.remote.webelement.WebElement (session=\"8e8fc4147d07d394358a33ee008b1b59\", element=\"e0eebdc8-e9ac-44ae-8bb7-963cc63310fb\")>,\n",
       " <selenium.webdriver.remote.webelement.WebElement (session=\"8e8fc4147d07d394358a33ee008b1b59\", element=\"7004792b-a6c3-4bef-9415-1534d269bedc\")>,\n",
       " <selenium.webdriver.remote.webelement.WebElement (session=\"8e8fc4147d07d394358a33ee008b1b59\", element=\"db8af013-8d3e-4758-9dc6-3ded3a49185f\")>,\n",
       " <selenium.webdriver.remote.webelement.WebElement (session=\"8e8fc4147d07d394358a33ee008b1b59\", element=\"62001f46-c097-4ca1-95ba-d3b9c163784f\")>,\n",
       " <selenium.webdriver.remote.webelement.WebElement (session=\"8e8fc4147d07d394358a33ee008b1b59\", element=\"d7785890-4099-401b-98fa-c3b64f0ff45e\")>,\n",
       " <selenium.webdriver.remote.webelement.WebElement (session=\"8e8fc4147d07d394358a33ee008b1b59\", element=\"bbe6d689-00b9-43a8-bda8-b59541bab09c\")>,\n",
       " <selenium.webdriver.remote.webelement.WebElement (session=\"8e8fc4147d07d394358a33ee008b1b59\", element=\"1e50358d-e464-4133-8790-3da3ccfef837\")>,\n",
       " <selenium.webdriver.remote.webelement.WebElement (session=\"8e8fc4147d07d394358a33ee008b1b59\", element=\"5f307ea7-482d-4898-b9ad-a18355fd8e56\")>,\n",
       " <selenium.webdriver.remote.webelement.WebElement (session=\"8e8fc4147d07d394358a33ee008b1b59\", element=\"637af043-849a-4711-923c-f85edbc2a556\")>,\n",
       " <selenium.webdriver.remote.webelement.WebElement (session=\"8e8fc4147d07d394358a33ee008b1b59\", element=\"5e1f23d1-1604-4abc-aee7-aa0522cdd387\")>,\n",
       " <selenium.webdriver.remote.webelement.WebElement (session=\"8e8fc4147d07d394358a33ee008b1b59\", element=\"b35d4971-b12f-4069-bed1-07bf827e5e05\")>,\n",
       " <selenium.webdriver.remote.webelement.WebElement (session=\"8e8fc4147d07d394358a33ee008b1b59\", element=\"c8c44582-6989-4c47-841b-99dcc499d288\")>,\n",
       " <selenium.webdriver.remote.webelement.WebElement (session=\"8e8fc4147d07d394358a33ee008b1b59\", element=\"2b73c4e4-c5c0-4d55-9f25-107dfe4c7133\")>,\n",
       " <selenium.webdriver.remote.webelement.WebElement (session=\"8e8fc4147d07d394358a33ee008b1b59\", element=\"d6935512-fbd9-41bb-baaa-500553044423\")>,\n",
       " <selenium.webdriver.remote.webelement.WebElement (session=\"8e8fc4147d07d394358a33ee008b1b59\", element=\"c0c67996-1b54-4be6-b732-6bef30a48ea7\")>,\n",
       " <selenium.webdriver.remote.webelement.WebElement (session=\"8e8fc4147d07d394358a33ee008b1b59\", element=\"a8dcdd0b-1a21-49d7-beb1-f803f6588c34\")>,\n",
       " <selenium.webdriver.remote.webelement.WebElement (session=\"8e8fc4147d07d394358a33ee008b1b59\", element=\"ccc8f1be-99be-4520-ac59-bdd16607b1c6\")>,\n",
       " <selenium.webdriver.remote.webelement.WebElement (session=\"8e8fc4147d07d394358a33ee008b1b59\", element=\"79ab3e9e-e6a0-493f-83f9-7fe3b32595b8\")>]"
      ]
     },
     "execution_count": 27,
     "metadata": {},
     "output_type": "execute_result"
    }
   ],
   "source": [
    "tit = driver.find_elements(By.CLASS_NAME, 'usctitlechanged')\n",
    "tit"
   ]
  },
  {
   "cell_type": "code",
   "execution_count": 28,
   "metadata": {},
   "outputs": [
    {
     "data": {
      "text/plain": [
       "['Title 1 - General Provisions ٭',\n",
       " 'Title 2 - The Congress',\n",
       " 'Title 3 - The President ٭',\n",
       " 'Title 5 - Government Organization and Employees ٭',\n",
       " 'Title 6 - Domestic Security',\n",
       " 'Title 8 - Aliens and Nationality',\n",
       " 'Title 10 - Armed Forces ٭',\n",
       " 'Title 12 - Banks and Banking',\n",
       " 'Title 14 - Coast Guard ٭',\n",
       " 'Title 15 - Commerce and Trade',\n",
       " 'Title 16 - Conservation',\n",
       " 'Title 17 - Copyrights ٭',\n",
       " 'Title 18 - Crimes and Criminal Procedure ٭',\n",
       " 'Title 20 - Education',\n",
       " 'Title 21 - Food and Drugs',\n",
       " 'Title 22 - Foreign Relations and Intercourse',\n",
       " 'Title 25 - Indians',\n",
       " 'Title 26 - Internal Revenue Code',\n",
       " 'Title 28 - Judiciary and Judicial Procedure ٭',\n",
       " 'Title 29 - Labor',\n",
       " 'Title 31 - Money and Finance ٭',\n",
       " 'Title 32 - National Guard ٭',\n",
       " 'Title 33 - Navigation and Navigable Waters',\n",
       " 'Title 34 - Crime Control and Law Enforcement',\n",
       " 'Title 36 - Patriotic and National Observances, Ceremonies, and Organizations ٭',\n",
       " 'Title 37 - Pay and Allowances of the Uniformed Services ٭',\n",
       " \"Title 38 - Veterans' Benefits ٭\",\n",
       " 'Title 40 - Public Buildings, Property, and Works ٭',\n",
       " 'Title 41 - Public Contracts ٭',\n",
       " 'Title 42 - The Public Health and Welfare',\n",
       " 'Title 43 - Public Lands',\n",
       " 'Title 44 - Public Printing and Documents ٭',\n",
       " 'Title 46 - Shipping ٭',\n",
       " 'Title 48 - Territories and Insular Possessions',\n",
       " 'Title 49 - Transportation ٭',\n",
       " 'Title 50 - War and National Defense',\n",
       " 'Title 51 - National and Commercial Space Programs ٭']"
      ]
     },
     "execution_count": 28,
     "metadata": {},
     "output_type": "execute_result"
    }
   ],
   "source": [
    "titulo = []\n",
    "for i in tit:\n",
    "    i = i.text\n",
    "    titulo.append(i)\n",
    "titulo"
   ]
  },
  {
   "cell_type": "markdown",
   "metadata": {},
   "source": [
    "#### A Python list with the top ten FBI's Most Wanted names "
   ]
  },
  {
   "cell_type": "code",
   "execution_count": 29,
   "metadata": {},
   "outputs": [],
   "source": [
    "# This is the url you will scrape in this exercise\n",
    "url = 'https://www.fbi.gov/wanted/topten'"
   ]
  },
  {
   "cell_type": "code",
   "execution_count": 30,
   "metadata": {},
   "outputs": [],
   "source": [
    "PATH = ChromeDriverManager().install()    # instala driver de chrome\n",
    "\n",
    "driver = webdriver.Chrome(PATH)      # abre una ventana de chrome\n"
   ]
  },
  {
   "cell_type": "code",
   "execution_count": 31,
   "metadata": {},
   "outputs": [],
   "source": [
    "#your code \n",
    "driver.get(url)"
   ]
  },
  {
   "cell_type": "code",
   "execution_count": 43,
   "metadata": {},
   "outputs": [
    {
     "data": {
      "text/plain": [
       "[<selenium.webdriver.remote.webelement.WebElement (session=\"515ee93b639b860187aefba1b9bf2e35\", element=\"f83d3bfb-4cbf-49e5-915a-0a8c7d029810\")>,\n",
       " <selenium.webdriver.remote.webelement.WebElement (session=\"515ee93b639b860187aefba1b9bf2e35\", element=\"5cb1a416-0f73-419e-b131-0c57b7a13494\")>,\n",
       " <selenium.webdriver.remote.webelement.WebElement (session=\"515ee93b639b860187aefba1b9bf2e35\", element=\"65852f35-aee0-4c3e-a40f-f9230dfcbdcf\")>,\n",
       " <selenium.webdriver.remote.webelement.WebElement (session=\"515ee93b639b860187aefba1b9bf2e35\", element=\"b13444d1-330d-4b7b-a476-790ef1fe7214\")>,\n",
       " <selenium.webdriver.remote.webelement.WebElement (session=\"515ee93b639b860187aefba1b9bf2e35\", element=\"a8a75355-3db6-4a8f-ad63-bf0f7b17f3a7\")>,\n",
       " <selenium.webdriver.remote.webelement.WebElement (session=\"515ee93b639b860187aefba1b9bf2e35\", element=\"40c79bb7-7156-451a-a3ae-afb8a498daf7\")>,\n",
       " <selenium.webdriver.remote.webelement.WebElement (session=\"515ee93b639b860187aefba1b9bf2e35\", element=\"c67365f0-219d-4f4a-967a-e18ebd3d797b\")>,\n",
       " <selenium.webdriver.remote.webelement.WebElement (session=\"515ee93b639b860187aefba1b9bf2e35\", element=\"766d3c09-dcc3-4f7d-bba2-f89dc8f57ebb\")>,\n",
       " <selenium.webdriver.remote.webelement.WebElement (session=\"515ee93b639b860187aefba1b9bf2e35\", element=\"c7aa186c-d4e0-4882-b64f-a2ade3a029f2\")>,\n",
       " <selenium.webdriver.remote.webelement.WebElement (session=\"515ee93b639b860187aefba1b9bf2e35\", element=\"4470ce1d-4dd1-4f4e-b0c2-cdd27955af91\")>,\n",
       " <selenium.webdriver.remote.webelement.WebElement (session=\"515ee93b639b860187aefba1b9bf2e35\", element=\"67cdf120-290d-4a8d-ba03-6a56d230f924\")>]"
      ]
     },
     "execution_count": 43,
     "metadata": {},
     "output_type": "execute_result"
    }
   ],
   "source": [
    "foto = driver.find_elements(By.CLASS_NAME, 'title')\n",
    "\n",
    "foto"
   ]
  },
  {
   "cell_type": "code",
   "execution_count": 44,
   "metadata": {},
   "outputs": [
    {
     "data": {
      "text/plain": [
       "['MOST WANTED',\n",
       " 'BHADRESHKUMAR CHETANBHAI PATEL',\n",
       " 'WILVER VILLEGAS-PALOMINO',\n",
       " 'ALEJANDRO ROSALES CASTILLO',\n",
       " 'RUJA IGNATOVA',\n",
       " 'ARNOLDO JIMENEZ',\n",
       " 'OMAR ALEXANDER CARDENAS',\n",
       " 'ALEXIS FLORES',\n",
       " 'YULAN ADONAY ARCHAGA CARIAS',\n",
       " 'MICHAEL JAMES PRATT',\n",
       " 'JOSE RODOLFO VILLARREAL-HERNANDEZ']"
      ]
     },
     "execution_count": 44,
     "metadata": {},
     "output_type": "execute_result"
    }
   ],
   "source": [
    "[e.text for e in foto]\n"
   ]
  },
  {
   "cell_type": "code",
   "execution_count": null,
   "metadata": {},
   "outputs": [],
   "source": []
  },
  {
   "cell_type": "markdown",
   "metadata": {},
   "source": [
    "####  20 latest earthquakes info (date, time, latitude, longitude and region name) by the EMSC as a pandas dataframe"
   ]
  },
  {
   "cell_type": "code",
   "execution_count": null,
   "metadata": {},
   "outputs": [],
   "source": [
    "# This is the url you will scrape in this exercise\n",
    "url = 'https://www.emsc-csem.org/Earthquake/'"
   ]
  },
  {
   "cell_type": "code",
   "execution_count": null,
   "metadata": {},
   "outputs": [],
   "source": [
    "#your code"
   ]
  },
  {
   "cell_type": "markdown",
   "metadata": {},
   "source": [
    "#### Count number of tweets by a given Twitter account."
   ]
  },
  {
   "cell_type": "markdown",
   "metadata": {},
   "source": [
    "You will need to include a ***try/except block*** for account names not found. \n",
    "<br>***Hint:*** the program should count the number of tweets for any provided account"
   ]
  },
  {
   "cell_type": "code",
   "execution_count": 62,
   "metadata": {},
   "outputs": [],
   "source": [
    "# This is the url you will scrape in this exercise \n",
    "# You will need to add the account credentials to this url\n",
    "url = 'https://twitter.com/ismanewells_'"
   ]
  },
  {
   "cell_type": "code",
   "execution_count": 58,
   "metadata": {},
   "outputs": [],
   "source": [
    "ATH = ChromeDriverManager().install()    # instala driver de chrome\n",
    "\n",
    "driver = webdriver.Chrome(PATH)      # abre una ventana de chrome\n"
   ]
  },
  {
   "cell_type": "code",
   "execution_count": 63,
   "metadata": {},
   "outputs": [],
   "source": [
    "#your code\n",
    "driver.get(url)"
   ]
  },
  {
   "cell_type": "code",
   "execution_count": 64,
   "metadata": {},
   "outputs": [
    {
     "data": {
      "text/plain": [
       "'27 mil Tweets'"
      ]
     },
     "execution_count": 64,
     "metadata": {},
     "output_type": "execute_result"
    }
   ],
   "source": [
    "tweets = driver.find_element(By.CSS_SELECTOR,'#react-root > div > div > div.css-1dbjc4n.r-18u37iz.r-13qz1uu.r-417010 > main > div > div > div > div > div > div.css-1dbjc4n.r-aqfbo4.r-gtdqiz.r-1gn8etr.r-1g40b8q > div:nth-child(1) > div > div > div > div > div > div.css-1dbjc4n.r-16y2uox.r-1wbh5a2.r-1pi2tsx.r-1777fci > div > div').text\n",
    "\n",
    "tweets"
   ]
  },
  {
   "cell_type": "code",
   "execution_count": null,
   "metadata": {},
   "outputs": [],
   "source": []
  },
  {
   "cell_type": "markdown",
   "metadata": {},
   "source": [
    "#### Number of followers of a given twitter account"
   ]
  },
  {
   "cell_type": "markdown",
   "metadata": {},
   "source": [
    "You will need to include a ***try/except block*** in case account/s name not found. \n",
    "<br>***Hint:*** the program should count the followers for any provided account"
   ]
  },
  {
   "cell_type": "code",
   "execution_count": null,
   "metadata": {},
   "outputs": [],
   "source": [
    "# This is the url you will scrape in this exercise \n",
    "# You will need to add the account credentials to this url\n",
    "url = 'https://twitter.com/'"
   ]
  },
  {
   "cell_type": "code",
   "execution_count": null,
   "metadata": {},
   "outputs": [],
   "source": [
    "#your code"
   ]
  },
  {
   "cell_type": "markdown",
   "metadata": {},
   "source": [
    "#### List all language names and number of related articles in the order they appear in wikipedia.org"
   ]
  },
  {
   "cell_type": "code",
   "execution_count": 65,
   "metadata": {},
   "outputs": [],
   "source": [
    "# This is the url you will scrape in this exercise\n",
    "url = 'https://www.wikipedia.org/'"
   ]
  },
  {
   "cell_type": "code",
   "execution_count": null,
   "metadata": {},
   "outputs": [],
   "source": [
    "#your code"
   ]
  },
  {
   "cell_type": "markdown",
   "metadata": {},
   "source": [
    "#### A list with the different kind of datasets available in data.gov.uk "
   ]
  },
  {
   "cell_type": "code",
   "execution_count": null,
   "metadata": {},
   "outputs": [],
   "source": [
    "# This is the url you will scrape in this exercise\n",
    "url = 'https://data.gov.uk/'"
   ]
  },
  {
   "cell_type": "code",
   "execution_count": null,
   "metadata": {},
   "outputs": [],
   "source": [
    "#your code "
   ]
  },
  {
   "cell_type": "markdown",
   "metadata": {},
   "source": [
    "#### Top 10 languages by number of native speakers stored in a Pandas Dataframe"
   ]
  },
  {
   "cell_type": "code",
   "execution_count": null,
   "metadata": {},
   "outputs": [],
   "source": [
    "# This is the url you will scrape in this exercise\n",
    "url = 'https://en.wikipedia.org/wiki/List_of_languages_by_number_of_native_speakers'"
   ]
  },
  {
   "cell_type": "code",
   "execution_count": null,
   "metadata": {},
   "outputs": [],
   "source": [
    "#your code"
   ]
  },
  {
   "cell_type": "markdown",
   "metadata": {},
   "source": [
    "### BONUS QUESTIONS"
   ]
  },
  {
   "cell_type": "markdown",
   "metadata": {},
   "source": [
    "#### Scrape a certain number of tweets of a given Twitter account."
   ]
  },
  {
   "cell_type": "code",
   "execution_count": null,
   "metadata": {},
   "outputs": [],
   "source": [
    "# This is the url you will scrape in this exercise \n",
    "# You will need to add the account credentials to this url\n",
    "url = 'https://twitter.com/'"
   ]
  },
  {
   "cell_type": "code",
   "execution_count": null,
   "metadata": {},
   "outputs": [],
   "source": [
    "# your code"
   ]
  },
  {
   "cell_type": "markdown",
   "metadata": {},
   "source": [
    "#### IMDB's Top 250 data (movie name, Initial release, director name and stars) as a pandas dataframe"
   ]
  },
  {
   "cell_type": "code",
   "execution_count": null,
   "metadata": {},
   "outputs": [],
   "source": [
    "# This is the url you will scrape in this exercise \n",
    "url = 'https://www.imdb.com/chart/top'"
   ]
  },
  {
   "cell_type": "code",
   "execution_count": null,
   "metadata": {},
   "outputs": [],
   "source": [
    "# your code"
   ]
  },
  {
   "cell_type": "markdown",
   "metadata": {},
   "source": [
    "#### Movie name, year and a brief summary of the top 10 random movies (IMDB) as a pandas dataframe."
   ]
  },
  {
   "cell_type": "code",
   "execution_count": null,
   "metadata": {},
   "outputs": [],
   "source": [
    "#This is the url you will scrape in this exercise\n",
    "url = 'http://www.imdb.com/chart/top'"
   ]
  },
  {
   "cell_type": "code",
   "execution_count": null,
   "metadata": {},
   "outputs": [],
   "source": [
    "#your code"
   ]
  },
  {
   "cell_type": "markdown",
   "metadata": {},
   "source": [
    "#### Find the live weather report (temperature, wind speed, description and weather) of a given city."
   ]
  },
  {
   "cell_type": "code",
   "execution_count": null,
   "metadata": {},
   "outputs": [
    {
     "ename": "KeyboardInterrupt",
     "evalue": "Interrupted by user",
     "output_type": "error",
     "traceback": [
      "\u001b[1;31m---------------------------------------------------------------------------\u001b[0m",
      "\u001b[1;31mKeyboardInterrupt\u001b[0m                         Traceback (most recent call last)",
      "Cell \u001b[1;32mIn[85], line 2\u001b[0m\n\u001b[0;32m      1\u001b[0m \u001b[39m#https://openweathermap.org/current\u001b[39;00m\n\u001b[1;32m----> 2\u001b[0m city \u001b[39m=\u001b[39m city\u001b[39m=\u001b[39m\u001b[39minput\u001b[39;49m(\u001b[39m'\u001b[39;49m\u001b[39mEnter the city:\u001b[39;49m\u001b[39m'\u001b[39;49m)\n\u001b[0;32m      3\u001b[0m url \u001b[39m=\u001b[39m \u001b[39m'\u001b[39m\u001b[39mhttp://api.openweathermap.org/data/2.5/weather?\u001b[39m\u001b[39m'\u001b[39m\u001b[39m+\u001b[39m\u001b[39m'\u001b[39m\u001b[39mq=\u001b[39m\u001b[39m'\u001b[39m\u001b[39m+\u001b[39mcity\u001b[39m+\u001b[39m\u001b[39m'\u001b[39m\u001b[39m&APPID=b35975e18dc93725acb092f7272cc6b8&units=metric\u001b[39m\u001b[39m'\u001b[39m\n",
      "File \u001b[1;32mc:\\Users\\cleme\\anaconda3\\lib\\site-packages\\ipykernel\\kernelbase.py:1175\u001b[0m, in \u001b[0;36mKernel.raw_input\u001b[1;34m(self, prompt)\u001b[0m\n\u001b[0;32m   1171\u001b[0m \u001b[39mif\u001b[39;00m \u001b[39mnot\u001b[39;00m \u001b[39mself\u001b[39m\u001b[39m.\u001b[39m_allow_stdin:\n\u001b[0;32m   1172\u001b[0m     \u001b[39mraise\u001b[39;00m StdinNotImplementedError(\n\u001b[0;32m   1173\u001b[0m         \u001b[39m\"\u001b[39m\u001b[39mraw_input was called, but this frontend does not support input requests.\u001b[39m\u001b[39m\"\u001b[39m\n\u001b[0;32m   1174\u001b[0m     )\n\u001b[1;32m-> 1175\u001b[0m \u001b[39mreturn\u001b[39;00m \u001b[39mself\u001b[39;49m\u001b[39m.\u001b[39;49m_input_request(\n\u001b[0;32m   1176\u001b[0m     \u001b[39mstr\u001b[39;49m(prompt),\n\u001b[0;32m   1177\u001b[0m     \u001b[39mself\u001b[39;49m\u001b[39m.\u001b[39;49m_parent_ident[\u001b[39m\"\u001b[39;49m\u001b[39mshell\u001b[39;49m\u001b[39m\"\u001b[39;49m],\n\u001b[0;32m   1178\u001b[0m     \u001b[39mself\u001b[39;49m\u001b[39m.\u001b[39;49mget_parent(\u001b[39m\"\u001b[39;49m\u001b[39mshell\u001b[39;49m\u001b[39m\"\u001b[39;49m),\n\u001b[0;32m   1179\u001b[0m     password\u001b[39m=\u001b[39;49m\u001b[39mFalse\u001b[39;49;00m,\n\u001b[0;32m   1180\u001b[0m )\n",
      "File \u001b[1;32mc:\\Users\\cleme\\anaconda3\\lib\\site-packages\\ipykernel\\kernelbase.py:1217\u001b[0m, in \u001b[0;36mKernel._input_request\u001b[1;34m(self, prompt, ident, parent, password)\u001b[0m\n\u001b[0;32m   1214\u001b[0m             \u001b[39mbreak\u001b[39;00m\n\u001b[0;32m   1215\u001b[0m \u001b[39mexcept\u001b[39;00m \u001b[39mKeyboardInterrupt\u001b[39;00m:\n\u001b[0;32m   1216\u001b[0m     \u001b[39m# re-raise KeyboardInterrupt, to truncate traceback\u001b[39;00m\n\u001b[1;32m-> 1217\u001b[0m     \u001b[39mraise\u001b[39;00m \u001b[39mKeyboardInterrupt\u001b[39;00m(\u001b[39m\"\u001b[39m\u001b[39mInterrupted by user\u001b[39m\u001b[39m\"\u001b[39m) \u001b[39mfrom\u001b[39;00m \u001b[39mNone\u001b[39m\n\u001b[0;32m   1218\u001b[0m \u001b[39mexcept\u001b[39;00m \u001b[39mException\u001b[39;00m:\n\u001b[0;32m   1219\u001b[0m     \u001b[39mself\u001b[39m\u001b[39m.\u001b[39mlog\u001b[39m.\u001b[39mwarning(\u001b[39m\"\u001b[39m\u001b[39mInvalid Message:\u001b[39m\u001b[39m\"\u001b[39m, exc_info\u001b[39m=\u001b[39m\u001b[39mTrue\u001b[39;00m)\n",
      "\u001b[1;31mKeyboardInterrupt\u001b[0m: Interrupted by user"
     ]
    }
   ],
   "source": [
    "#https://openweathermap.org/current\n",
    "city = city=input('Enter the city:')\n",
    "url = 'http://api.openweathermap.org/data/2.5/weather?'+'q='+city+'&APPID=b35975e18dc93725acb092f7272cc6b8&units=metric'"
   ]
  },
  {
   "cell_type": "code",
   "execution_count": null,
   "metadata": {},
   "outputs": [],
   "source": [
    "# your code"
   ]
  },
  {
   "cell_type": "markdown",
   "metadata": {},
   "source": [
    "#### Book name,price and stock availability as a pandas dataframe."
   ]
  },
  {
   "cell_type": "code",
   "execution_count": null,
   "metadata": {},
   "outputs": [],
   "source": [
    "# This is the url you will scrape in this exercise. \n",
    "# It is a fictional bookstore created to be scraped. \n",
    "url = 'http://books.toscrape.com/'"
   ]
  },
  {
   "cell_type": "code",
   "execution_count": null,
   "metadata": {},
   "outputs": [],
   "source": [
    "#your code"
   ]
  }
 ],
 "metadata": {
  "kernelspec": {
   "display_name": "Python 3",
   "language": "python",
   "name": "python3"
  },
  "language_info": {
   "codemirror_mode": {
    "name": "ipython",
    "version": 3
   },
   "file_extension": ".py",
   "mimetype": "text/x-python",
   "name": "python",
   "nbconvert_exporter": "python",
   "pygments_lexer": "ipython3",
   "version": "3.10.9"
  }
 },
 "nbformat": 4,
 "nbformat_minor": 2
}
