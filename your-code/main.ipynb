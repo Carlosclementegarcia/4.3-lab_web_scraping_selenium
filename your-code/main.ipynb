{
 "cells": [
  {
   "cell_type": "markdown",
   "metadata": {},
   "source": [
    "# Web Scraping Lab\n",
    "\n",
    "You will find in this notebook some scrapy exercises to practise your scraping skills.\n",
    "\n",
    "**Tips:**\n",
    "\n",
    "- Check the response status code for each request to ensure you have obtained the intended contennt.\n",
    "- Print the response text in each request to understand the kind of info you are getting and its format.\n",
    "- Check for patterns in the response text to extract the data/info requested in each question.\n",
    "- Visit each url and take a look at its source through Chrome DevTools. You'll need to identify the html tags, special class names etc. used for the html content you are expected to extract."
   ]
  },
  {
   "cell_type": "markdown",
   "metadata": {},
   "source": [
    "- [Selenium Doc](https://www.selenium.dev/documentation/)\n",
    "- [Requests library](http://docs.python-requests.org/en/master/#the-user-guide) documentation \n",
    "- [Urllib](https://docs.python.org/3/library/urllib.html#module-urllib)\n",
    "- [re lib](https://docs.python.org/3/library/re.html)\n",
    "- [lxml lib](https://lxml.de/)\n",
    "- [Scrapy](https://scrapy.org/)\n",
    "- [List of HTTP status codes](https://en.wikipedia.org/wiki/List_of_HTTP_status_codes)\n",
    "- [HTML basics](http://www.simplehtmlguide.com/cheatsheet.php)\n",
    "- [CSS basics](https://www.cssbasics.com/#page_start)"
   ]
  },
  {
   "cell_type": "markdown",
   "metadata": {},
   "source": [
    "#### Below are the libraries and modules you may need. `Selenium` and `pandas` are imported for you."
   ]
  },
  {
   "cell_type": "code",
   "execution_count": 60,
   "metadata": {},
   "outputs": [
    {
     "name": "stdout",
     "output_type": "stream",
     "text": [
      "Requirement already satisfied: selenium in c:\\users\\cleme\\anaconda3\\lib\\site-packages (4.9.0)\n",
      "Requirement already satisfied: trio~=0.17 in c:\\users\\cleme\\anaconda3\\lib\\site-packages (from selenium) (0.22.0)\n",
      "Requirement already satisfied: trio-websocket~=0.9 in c:\\users\\cleme\\anaconda3\\lib\\site-packages (from selenium) (0.10.2)\n",
      "Requirement already satisfied: certifi>=2021.10.8 in c:\\users\\cleme\\anaconda3\\lib\\site-packages (from selenium) (2022.12.7)\n",
      "Requirement already satisfied: urllib3[socks]~=1.26 in c:\\users\\cleme\\anaconda3\\lib\\site-packages (from selenium) (1.26.14)\n",
      "Requirement already satisfied: async-generator>=1.9 in c:\\users\\cleme\\anaconda3\\lib\\site-packages (from trio~=0.17->selenium) (1.10)\n",
      "Requirement already satisfied: idna in c:\\users\\cleme\\anaconda3\\lib\\site-packages (from trio~=0.17->selenium) (3.4)\n",
      "Requirement already satisfied: sniffio in c:\\users\\cleme\\anaconda3\\lib\\site-packages (from trio~=0.17->selenium) (1.2.0)\n",
      "Requirement already satisfied: sortedcontainers in c:\\users\\cleme\\anaconda3\\lib\\site-packages (from trio~=0.17->selenium) (2.4.0)\n",
      "Requirement already satisfied: outcome in c:\\users\\cleme\\anaconda3\\lib\\site-packages (from trio~=0.17->selenium) (1.2.0)\n",
      "Requirement already satisfied: cffi>=1.14 in c:\\users\\cleme\\anaconda3\\lib\\site-packages (from trio~=0.17->selenium) (1.15.1)\n",
      "Requirement already satisfied: exceptiongroup>=1.0.0rc9 in c:\\users\\cleme\\anaconda3\\lib\\site-packages (from trio~=0.17->selenium) (1.1.1)\n",
      "Requirement already satisfied: attrs>=19.2.0 in c:\\users\\cleme\\anaconda3\\lib\\site-packages (from trio~=0.17->selenium) (22.1.0)\n",
      "Requirement already satisfied: wsproto>=0.14 in c:\\users\\cleme\\anaconda3\\lib\\site-packages (from trio-websocket~=0.9->selenium) (1.2.0)\n",
      "Requirement already satisfied: PySocks!=1.5.7,<2.0,>=1.5.6 in c:\\users\\cleme\\anaconda3\\lib\\site-packages (from urllib3[socks]~=1.26->selenium) (1.7.1)\n",
      "Requirement already satisfied: pycparser in c:\\users\\cleme\\anaconda3\\lib\\site-packages (from cffi>=1.14->trio~=0.17->selenium) (2.21)\n",
      "Requirement already satisfied: h11<1,>=0.9.0 in c:\\users\\cleme\\anaconda3\\lib\\site-packages (from wsproto>=0.14->trio-websocket~=0.9->selenium) (0.14.0)\n",
      "Note: you may need to restart the kernel to use updated packages.\n"
     ]
    }
   ],
   "source": [
    "\n",
    "pip install selenium"
   ]
  },
  {
   "cell_type": "code",
   "execution_count": 61,
   "metadata": {},
   "outputs": [
    {
     "name": "stdout",
     "output_type": "stream",
     "text": [
      "Requirement already satisfied: webdriver-manager in c:\\users\\cleme\\anaconda3\\lib\\site-packages (3.8.6)\n",
      "Requirement already satisfied: requests in c:\\users\\cleme\\anaconda3\\lib\\site-packages (from webdriver-manager) (2.28.1)\n",
      "Requirement already satisfied: python-dotenv in c:\\users\\cleme\\anaconda3\\lib\\site-packages (from webdriver-manager) (1.0.0)\n",
      "Requirement already satisfied: tqdm in c:\\users\\cleme\\anaconda3\\lib\\site-packages (from webdriver-manager) (4.64.1)\n",
      "Requirement already satisfied: packaging in c:\\users\\cleme\\anaconda3\\lib\\site-packages (from webdriver-manager) (22.0)\n",
      "Requirement already satisfied: urllib3<1.27,>=1.21.1 in c:\\users\\cleme\\anaconda3\\lib\\site-packages (from requests->webdriver-manager) (1.26.14)\n",
      "Requirement already satisfied: charset-normalizer<3,>=2 in c:\\users\\cleme\\anaconda3\\lib\\site-packages (from requests->webdriver-manager) (2.0.4)\n",
      "Requirement already satisfied: certifi>=2017.4.17 in c:\\users\\cleme\\anaconda3\\lib\\site-packages (from requests->webdriver-manager) (2022.12.7)\n",
      "Requirement already satisfied: idna<4,>=2.5 in c:\\users\\cleme\\anaconda3\\lib\\site-packages (from requests->webdriver-manager) (3.4)\n",
      "Requirement already satisfied: colorama in c:\\users\\cleme\\anaconda3\\lib\\site-packages (from tqdm->webdriver-manager) (0.4.6)\n",
      "Note: you may need to restart the kernel to use updated packages.\n"
     ]
    }
   ],
   "source": [
    "%pip install webdriver-manager"
   ]
  },
  {
   "cell_type": "code",
   "execution_count": 62,
   "metadata": {},
   "outputs": [],
   "source": [
    "import pandas as pd\n",
    "\n",
    "from selenium import webdriver\n",
    "from selenium.webdriver.chrome.options import Options\n",
    "from webdriver_manager.chrome import ChromeDriverManager\n",
    "from selenium.webdriver.common.by import By # By es para buscar por tag, clase, id...\n",
    "\n",
    "import time\n",
    "import warnings\n",
    "warnings.filterwarnings('ignore')\n",
    "\n",
    "#driver configuration\n",
    "opciones=Options()\n",
    "\n",
    "opciones.add_experimental_option('excludeSwitches', ['enable-automation'])\n",
    "opciones.add_experimental_option('useAutomationExtension', False)\n",
    "opciones.headless=False    # si True, no aperece la ventana (headless=no visible)\n",
    "opciones.add_argument('--start-maximized')         # comienza maximizado\n",
    "#opciones.add_argument('user-data-dir=selenium')    # mantiene las cookies\n",
    "#opciones.add_extension('driver_folder/adblock.crx')       # adblocker\n",
    "opciones.add_argument('--incognito')"
   ]
  },
  {
   "cell_type": "code",
   "execution_count": 63,
   "metadata": {},
   "outputs": [],
   "source": [
    "PATH = ChromeDriverManager().install()    # instala driver de chrome\n",
    "\n",
    "driver = webdriver.Chrome(PATH)      # abre una ventana de chrome"
   ]
  },
  {
   "cell_type": "markdown",
   "metadata": {},
   "source": [
    "#### Download, parse, and print the content from the Trending Developers page from GitHub:"
   ]
  },
  {
   "cell_type": "code",
   "execution_count": 64,
   "metadata": {},
   "outputs": [],
   "source": [
    "# This is the url you will scrape in this exercise\n",
    "url = 'https://github.com/trending/developers'"
   ]
  },
  {
   "cell_type": "code",
   "execution_count": 65,
   "metadata": {},
   "outputs": [],
   "source": [
    "driver.get(url)"
   ]
  },
  {
   "cell_type": "code",
   "execution_count": 66,
   "metadata": {},
   "outputs": [],
   "source": [
    "# no se puede abrir con selenium\n",
    "lugar = driver.find_elements(By.CLASS_NAME,'col-md-6')\n"
   ]
  },
  {
   "cell_type": "code",
   "execution_count": 67,
   "metadata": {},
   "outputs": [
    {
     "data": {
      "text/plain": [
       "'Steven Tey\\nsteven-tey'"
      ]
     },
     "execution_count": 67,
     "metadata": {},
     "output_type": "execute_result"
    }
   ],
   "source": [
    "lugar[0].text"
   ]
  },
  {
   "cell_type": "code",
   "execution_count": 68,
   "metadata": {},
   "outputs": [
    {
     "data": {
      "text/plain": [
       "'merrymercy'"
      ]
     },
     "execution_count": 68,
     "metadata": {},
     "output_type": "execute_result"
    }
   ],
   "source": [
    "driver.find_elements(By.XPATH,'//p//a')[1].text"
   ]
  },
  {
   "cell_type": "markdown",
   "metadata": {},
   "source": [
    "#### Display the names of the trending developers retrieved in the previous step.\n",
    "\n",
    "Your output should be a Python list of developer names. Each name should not contain any html tag.\n",
    "\n",
    "**Instructions:**\n",
    "\n",
    "1. Find out the html tag and class names used for the developer names.\n",
    "\n",
    "1. Use string manipulation techniques to replace whitespaces and linebreaks (i.e. `\\n`) in the *text* of each html element. Use a list to store the clean names.\n",
    "\n",
    "1. Print the list of names.\n",
    "\n",
    "Your output should look like below:\n",
    "\n",
    "```\n",
    "['trimstray (@trimstray)',\n",
    " 'joewalnes (JoeWalnes)',\n",
    " 'charlax (Charles-AxelDein)',\n",
    " 'ForrestKnight (ForrestKnight)',\n",
    " 'revery-ui (revery-ui)',\n",
    " 'alibaba (Alibaba)',\n",
    " 'Microsoft (Microsoft)',\n",
    " 'github (GitHub)',\n",
    " 'facebook (Facebook)',\n",
    " 'boazsegev (Bo)',\n",
    " 'google (Google)',\n",
    " 'cloudfetch',\n",
    " 'sindresorhus (SindreSorhus)',\n",
    " 'tensorflow',\n",
    " 'apache (TheApacheSoftwareFoundation)',\n",
    " 'DevonCrawford (DevonCrawford)',\n",
    " 'ARMmbed (ArmMbed)',\n",
    " 'vuejs (vuejs)',\n",
    " 'fastai (fast.ai)',\n",
    " 'QiShaoXuan (Qi)',\n",
    " 'joelparkerhenderson (JoelParkerHenderson)',\n",
    " 'torvalds (LinusTorvalds)',\n",
    " 'CyC2018',\n",
    " 'komeiji-satori (神楽坂覚々)',\n",
    " 'script-8']\n",
    " ```"
   ]
  },
  {
   "cell_type": "code",
   "execution_count": 69,
   "metadata": {},
   "outputs": [
    {
     "data": {
      "text/plain": [
       "[<selenium.webdriver.remote.webelement.WebElement (session=\"1e7daecd7bf85e9f23d944a9889cc38d\", element=\"ca351d7f-ba5e-4023-acff-cacca0c59cd4\")>,\n",
       " <selenium.webdriver.remote.webelement.WebElement (session=\"1e7daecd7bf85e9f23d944a9889cc38d\", element=\"e09347e3-4f16-4829-a9e1-d09161b50d8f\")>,\n",
       " <selenium.webdriver.remote.webelement.WebElement (session=\"1e7daecd7bf85e9f23d944a9889cc38d\", element=\"4440b0c9-59d5-4f69-b92b-3027e350aeab\")>,\n",
       " <selenium.webdriver.remote.webelement.WebElement (session=\"1e7daecd7bf85e9f23d944a9889cc38d\", element=\"a59ab2df-2dee-40e6-b56f-e4bbe2acf821\")>,\n",
       " <selenium.webdriver.remote.webelement.WebElement (session=\"1e7daecd7bf85e9f23d944a9889cc38d\", element=\"eb77a54b-a9fa-441f-bbb8-8031729c32cd\")>,\n",
       " <selenium.webdriver.remote.webelement.WebElement (session=\"1e7daecd7bf85e9f23d944a9889cc38d\", element=\"f2484592-8d8d-4a7c-a627-60e6199411a1\")>,\n",
       " <selenium.webdriver.remote.webelement.WebElement (session=\"1e7daecd7bf85e9f23d944a9889cc38d\", element=\"3d048e8e-561a-4f9d-b829-3de65ccd9ea5\")>,\n",
       " <selenium.webdriver.remote.webelement.WebElement (session=\"1e7daecd7bf85e9f23d944a9889cc38d\", element=\"3e0cd620-cf3d-47bc-bc7b-859ab1b3aa2e\")>,\n",
       " <selenium.webdriver.remote.webelement.WebElement (session=\"1e7daecd7bf85e9f23d944a9889cc38d\", element=\"1717180e-5789-42d5-a8f0-181848e5db6c\")>,\n",
       " <selenium.webdriver.remote.webelement.WebElement (session=\"1e7daecd7bf85e9f23d944a9889cc38d\", element=\"958ab8db-0237-462e-8022-3f15d445db02\")>,\n",
       " <selenium.webdriver.remote.webelement.WebElement (session=\"1e7daecd7bf85e9f23d944a9889cc38d\", element=\"bac5219e-518f-4e0f-949e-832db3ef0a73\")>,\n",
       " <selenium.webdriver.remote.webelement.WebElement (session=\"1e7daecd7bf85e9f23d944a9889cc38d\", element=\"c1057d7c-3ade-471e-a2b9-368746a99cc2\")>,\n",
       " <selenium.webdriver.remote.webelement.WebElement (session=\"1e7daecd7bf85e9f23d944a9889cc38d\", element=\"89505dc7-9a19-4144-97a3-e7d7248b0d81\")>,\n",
       " <selenium.webdriver.remote.webelement.WebElement (session=\"1e7daecd7bf85e9f23d944a9889cc38d\", element=\"fc6a6e63-66d9-411e-8c96-858600d9938e\")>,\n",
       " <selenium.webdriver.remote.webelement.WebElement (session=\"1e7daecd7bf85e9f23d944a9889cc38d\", element=\"c31027fd-8838-4577-a812-e71bdd2641cc\")>,\n",
       " <selenium.webdriver.remote.webelement.WebElement (session=\"1e7daecd7bf85e9f23d944a9889cc38d\", element=\"13531528-f02a-4877-8535-8beb6950dbe6\")>,\n",
       " <selenium.webdriver.remote.webelement.WebElement (session=\"1e7daecd7bf85e9f23d944a9889cc38d\", element=\"ed38a881-31e2-4c2a-93b8-6f3152705fe8\")>,\n",
       " <selenium.webdriver.remote.webelement.WebElement (session=\"1e7daecd7bf85e9f23d944a9889cc38d\", element=\"36b38001-b23d-446d-b5de-a19c8b7623d0\")>,\n",
       " <selenium.webdriver.remote.webelement.WebElement (session=\"1e7daecd7bf85e9f23d944a9889cc38d\", element=\"d6c2b3ea-749f-4244-b5ae-9b4644119d85\")>,\n",
       " <selenium.webdriver.remote.webelement.WebElement (session=\"1e7daecd7bf85e9f23d944a9889cc38d\", element=\"6c437418-18de-42f2-a0af-33cea3b496e6\")>,\n",
       " <selenium.webdriver.remote.webelement.WebElement (session=\"1e7daecd7bf85e9f23d944a9889cc38d\", element=\"18c6ce09-6c0e-4a9a-ab7b-e539efe6907e\")>,\n",
       " <selenium.webdriver.remote.webelement.WebElement (session=\"1e7daecd7bf85e9f23d944a9889cc38d\", element=\"a62bb555-0deb-4b22-a695-71e380265e07\")>,\n",
       " <selenium.webdriver.remote.webelement.WebElement (session=\"1e7daecd7bf85e9f23d944a9889cc38d\", element=\"42bf2a36-e103-48c0-bd71-7aabee165b58\")>,\n",
       " <selenium.webdriver.remote.webelement.WebElement (session=\"1e7daecd7bf85e9f23d944a9889cc38d\", element=\"bfe2f852-76ad-4515-9d50-2e881e38717b\")>,\n",
       " <selenium.webdriver.remote.webelement.WebElement (session=\"1e7daecd7bf85e9f23d944a9889cc38d\", element=\"612ce85d-36ba-4302-b9ac-3a879bcd5c06\")>]"
      ]
     },
     "execution_count": 69,
     "metadata": {},
     "output_type": "execute_result"
    }
   ],
   "source": [
    "#your code\n",
    "lugar = driver.find_elements(By.CLASS_NAME, 'h3.lh-condensed')\n",
    "lugar"
   ]
  },
  {
   "cell_type": "code",
   "execution_count": 70,
   "metadata": {},
   "outputs": [],
   "source": [
    "lugar = [e.text for e in lugar]\n"
   ]
  },
  {
   "cell_type": "code",
   "execution_count": 71,
   "metadata": {},
   "outputs": [
    {
     "data": {
      "text/plain": [
       "['Steven Tey',\n",
       " 'pilcrowOnPaper',\n",
       " 'Lianmin Zheng',\n",
       " 'Henrik Rydgård',\n",
       " 'Andreas Thomas',\n",
       " 'Raphaël Benitte',\n",
       " 'Ariel Mashraki',\n",
       " 'Georgios Konstantopoulos',\n",
       " 'Bas Nijholt',\n",
       " 'Tom Payne',\n",
       " 'dgtlmoon',\n",
       " 'Mattias Wadman',\n",
       " 'Laurent Mazare',\n",
       " 'Anders Jenbo',\n",
       " 'Tianon Gravi',\n",
       " 'lllyasviel',\n",
       " 'Andrea Aime',\n",
       " 'Luca Palmieri',\n",
       " 'Harrison Chase',\n",
       " 'Eric Meadows-Jönsson',\n",
       " 'Brad Fitzpatrick',\n",
       " 'Jerry Liu',\n",
       " 'Fons van der Plas',\n",
       " 'Simon L.',\n",
       " 'Silvio Traversaro']"
      ]
     },
     "execution_count": 71,
     "metadata": {},
     "output_type": "execute_result"
    }
   ],
   "source": [
    "lugar"
   ]
  },
  {
   "cell_type": "markdown",
   "metadata": {},
   "source": [
    "#### Display the trending Python repositories in GitHub\n",
    "\n",
    "The steps to solve this problem is similar to the previous one except that you need to find out the repository names instead of developer names."
   ]
  },
  {
   "cell_type": "code",
   "execution_count": 72,
   "metadata": {},
   "outputs": [],
   "source": [
    "# This is the url you will scrape in this exercise\n",
    "url = 'https://github.com/trending/python?since=daily'"
   ]
  },
  {
   "cell_type": "code",
   "execution_count": 73,
   "metadata": {},
   "outputs": [],
   "source": [
    "#your code\n",
    "driver.get(url)"
   ]
  },
  {
   "cell_type": "code",
   "execution_count": null,
   "metadata": {},
   "outputs": [],
   "source": []
  },
  {
   "cell_type": "code",
   "execution_count": null,
   "metadata": {},
   "outputs": [],
   "source": []
  },
  {
   "cell_type": "markdown",
   "metadata": {},
   "source": [
    "#### Display all the image links from Walt Disney wikipedia page"
   ]
  },
  {
   "cell_type": "code",
   "execution_count": 74,
   "metadata": {},
   "outputs": [],
   "source": [
    "# This is the url you will scrape in this exercise\n",
    "url1= 'https://en.wikipedia.org/wiki/Walt_Disney'"
   ]
  },
  {
   "cell_type": "code",
   "execution_count": 75,
   "metadata": {},
   "outputs": [],
   "source": [
    "PATH = ChromeDriverManager().install()    # instala driver de chrome\n",
    "\n",
    "driver = webdriver.Chrome(PATH)      # abre una ventana de chrome"
   ]
  },
  {
   "cell_type": "code",
   "execution_count": 76,
   "metadata": {},
   "outputs": [],
   "source": [
    "driver.get(url1)"
   ]
  },
  {
   "cell_type": "code",
   "execution_count": 77,
   "metadata": {},
   "outputs": [
    {
     "data": {
      "text/plain": [
       "[<selenium.webdriver.remote.webelement.WebElement (session=\"05b32c1b10510ff09fbe22d54a74fef7\", element=\"d07d752e-6ec0-4726-858b-dd27c6b41c38\")>,\n",
       " <selenium.webdriver.remote.webelement.WebElement (session=\"05b32c1b10510ff09fbe22d54a74fef7\", element=\"1589bd4e-25c0-445f-a1c8-1230437916fa\")>,\n",
       " <selenium.webdriver.remote.webelement.WebElement (session=\"05b32c1b10510ff09fbe22d54a74fef7\", element=\"1630b419-72e6-45e1-ae6e-eb614061a9da\")>,\n",
       " <selenium.webdriver.remote.webelement.WebElement (session=\"05b32c1b10510ff09fbe22d54a74fef7\", element=\"9295b878-3482-4ff9-ae39-70ee877e6b83\")>,\n",
       " <selenium.webdriver.remote.webelement.WebElement (session=\"05b32c1b10510ff09fbe22d54a74fef7\", element=\"04bde4f8-6fbc-49d7-a751-444e4f17aba8\")>,\n",
       " <selenium.webdriver.remote.webelement.WebElement (session=\"05b32c1b10510ff09fbe22d54a74fef7\", element=\"98913951-354a-4eaf-91aa-989bfd9f6d04\")>,\n",
       " <selenium.webdriver.remote.webelement.WebElement (session=\"05b32c1b10510ff09fbe22d54a74fef7\", element=\"a8f32bb4-7646-4624-885f-0691a5ec7006\")>,\n",
       " <selenium.webdriver.remote.webelement.WebElement (session=\"05b32c1b10510ff09fbe22d54a74fef7\", element=\"5deaef6f-9968-421e-b564-ed5408d2f917\")>,\n",
       " <selenium.webdriver.remote.webelement.WebElement (session=\"05b32c1b10510ff09fbe22d54a74fef7\", element=\"3803c43b-13f7-435b-a791-bea3da3c74a8\")>,\n",
       " <selenium.webdriver.remote.webelement.WebElement (session=\"05b32c1b10510ff09fbe22d54a74fef7\", element=\"70b17a64-d75f-488b-b41b-c1b0525e18f0\")>,\n",
       " <selenium.webdriver.remote.webelement.WebElement (session=\"05b32c1b10510ff09fbe22d54a74fef7\", element=\"1a449537-97cb-481c-9768-aa57956584fe\")>,\n",
       " <selenium.webdriver.remote.webelement.WebElement (session=\"05b32c1b10510ff09fbe22d54a74fef7\", element=\"46fb17d4-b85d-48b6-933d-6a84ff2969d8\")>,\n",
       " <selenium.webdriver.remote.webelement.WebElement (session=\"05b32c1b10510ff09fbe22d54a74fef7\", element=\"5a5acc34-0801-4f62-ad16-69bb22931d52\")>,\n",
       " <selenium.webdriver.remote.webelement.WebElement (session=\"05b32c1b10510ff09fbe22d54a74fef7\", element=\"ad9d329c-c01b-485a-8b6d-89617a36aa07\")>,\n",
       " <selenium.webdriver.remote.webelement.WebElement (session=\"05b32c1b10510ff09fbe22d54a74fef7\", element=\"62341bcb-2ddd-4f41-8446-c8e2700615ff\")>]"
      ]
     },
     "execution_count": 77,
     "metadata": {},
     "output_type": "execute_result"
    }
   ],
   "source": [
    "foto = driver.find_elements(By.CLASS_NAME,'thumbinner')\n",
    "foto"
   ]
  },
  {
   "cell_type": "code",
   "execution_count": 78,
   "metadata": {},
   "outputs": [
    {
     "data": {
      "text/plain": [
       "[\"Disney's childhood home\",\n",
       " \"Walt Disney's business envelope featured a self-portrait, c.\\u20091921.\",\n",
       " '3:23\\nNewman Laugh-O-Gram (1921)',\n",
       " 'Theatrical poster for Trolley Troubles (1927)',\n",
       " 'The first appearance of Mickey Mouse, in Steamboat Willie (1928)',\n",
       " 'Disney in 1935 in Place de la Concorde, Paris',\n",
       " 'Walt Disney introduces each of the seven dwarfs in a scene from the original 1937 Snow White theatrical trailer.',\n",
       " 'Disney drawing Goofy for a group of girls in Argentina, 1941',\n",
       " 'Disney shows the plans of Disneyland to officials from Orange County in December 1954.',\n",
       " 'Disney in 1954',\n",
       " 'Grave of Walt Disney at Forest Lawn, Glendale',\n",
       " 'Roy O. Disney finished the building of Walt Disney World.',\n",
       " 'Disney family at Schiphol Airport (1951)',\n",
       " '1968 U.S. postage stamp',\n",
       " 'Disney in 1953, winning the Academy Award for Best Live Action Short Film for Water Birds']"
      ]
     },
     "execution_count": 78,
     "metadata": {},
     "output_type": "execute_result"
    }
   ],
   "source": [
    "[e.text for e in foto]"
   ]
  },
  {
   "cell_type": "markdown",
   "metadata": {},
   "source": [
    "#### Retrieve an arbitary Wikipedia page of \"Python\" and create a list of links on that page"
   ]
  },
  {
   "cell_type": "code",
   "execution_count": 79,
   "metadata": {},
   "outputs": [],
   "source": [
    "# This is the url you will scrape in this exercise\n",
    "url ='https://en.wikipedia.org/wiki/Python' "
   ]
  },
  {
   "cell_type": "code",
   "execution_count": 80,
   "metadata": {},
   "outputs": [
    {
     "data": {
      "text/plain": [
       "[<selenium.webdriver.remote.webelement.WebElement (session=\"05b32c1b10510ff09fbe22d54a74fef7\", element=\"d07d752e-6ec0-4726-858b-dd27c6b41c38\")>,\n",
       " <selenium.webdriver.remote.webelement.WebElement (session=\"05b32c1b10510ff09fbe22d54a74fef7\", element=\"1589bd4e-25c0-445f-a1c8-1230437916fa\")>,\n",
       " <selenium.webdriver.remote.webelement.WebElement (session=\"05b32c1b10510ff09fbe22d54a74fef7\", element=\"1630b419-72e6-45e1-ae6e-eb614061a9da\")>,\n",
       " <selenium.webdriver.remote.webelement.WebElement (session=\"05b32c1b10510ff09fbe22d54a74fef7\", element=\"9295b878-3482-4ff9-ae39-70ee877e6b83\")>,\n",
       " <selenium.webdriver.remote.webelement.WebElement (session=\"05b32c1b10510ff09fbe22d54a74fef7\", element=\"04bde4f8-6fbc-49d7-a751-444e4f17aba8\")>,\n",
       " <selenium.webdriver.remote.webelement.WebElement (session=\"05b32c1b10510ff09fbe22d54a74fef7\", element=\"98913951-354a-4eaf-91aa-989bfd9f6d04\")>,\n",
       " <selenium.webdriver.remote.webelement.WebElement (session=\"05b32c1b10510ff09fbe22d54a74fef7\", element=\"a8f32bb4-7646-4624-885f-0691a5ec7006\")>,\n",
       " <selenium.webdriver.remote.webelement.WebElement (session=\"05b32c1b10510ff09fbe22d54a74fef7\", element=\"5deaef6f-9968-421e-b564-ed5408d2f917\")>,\n",
       " <selenium.webdriver.remote.webelement.WebElement (session=\"05b32c1b10510ff09fbe22d54a74fef7\", element=\"3803c43b-13f7-435b-a791-bea3da3c74a8\")>,\n",
       " <selenium.webdriver.remote.webelement.WebElement (session=\"05b32c1b10510ff09fbe22d54a74fef7\", element=\"70b17a64-d75f-488b-b41b-c1b0525e18f0\")>,\n",
       " <selenium.webdriver.remote.webelement.WebElement (session=\"05b32c1b10510ff09fbe22d54a74fef7\", element=\"1a449537-97cb-481c-9768-aa57956584fe\")>,\n",
       " <selenium.webdriver.remote.webelement.WebElement (session=\"05b32c1b10510ff09fbe22d54a74fef7\", element=\"46fb17d4-b85d-48b6-933d-6a84ff2969d8\")>,\n",
       " <selenium.webdriver.remote.webelement.WebElement (session=\"05b32c1b10510ff09fbe22d54a74fef7\", element=\"5a5acc34-0801-4f62-ad16-69bb22931d52\")>,\n",
       " <selenium.webdriver.remote.webelement.WebElement (session=\"05b32c1b10510ff09fbe22d54a74fef7\", element=\"ad9d329c-c01b-485a-8b6d-89617a36aa07\")>,\n",
       " <selenium.webdriver.remote.webelement.WebElement (session=\"05b32c1b10510ff09fbe22d54a74fef7\", element=\"62341bcb-2ddd-4f41-8446-c8e2700615ff\")>]"
      ]
     },
     "execution_count": 80,
     "metadata": {},
     "output_type": "execute_result"
    }
   ],
   "source": [
    "imagen = driver.find_elements(By.CLASS_NAME, 'thumbinner')\n",
    "imagen"
   ]
  },
  {
   "cell_type": "code",
   "execution_count": null,
   "metadata": {},
   "outputs": [],
   "source": []
  },
  {
   "cell_type": "markdown",
   "metadata": {},
   "source": [
    "#### Number of Titles that have changed in the United States Code since its last release point "
   ]
  },
  {
   "cell_type": "code",
   "execution_count": 81,
   "metadata": {},
   "outputs": [],
   "source": [
    "# This is the url you will scrape in this exercise\n",
    "url = 'http://uscode.house.gov/download/download.shtml'"
   ]
  },
  {
   "cell_type": "code",
   "execution_count": 82,
   "metadata": {},
   "outputs": [],
   "source": [
    "#your code\n",
    "PATH = ChromeDriverManager().install()    # instala driver de chrome\n",
    "\n",
    "driver = webdriver.Chrome(PATH)      # abre una ventana de chrome\n"
   ]
  },
  {
   "cell_type": "code",
   "execution_count": 83,
   "metadata": {},
   "outputs": [],
   "source": [
    "driver.get(url)"
   ]
  },
  {
   "cell_type": "code",
   "execution_count": 84,
   "metadata": {},
   "outputs": [
    {
     "data": {
      "text/plain": [
       "[<selenium.webdriver.remote.webelement.WebElement (session=\"88d9274bf218927f91f0180956ff56bb\", element=\"4cb6805a-11bc-42c5-94d4-f2526d56c839\")>,\n",
       " <selenium.webdriver.remote.webelement.WebElement (session=\"88d9274bf218927f91f0180956ff56bb\", element=\"d2291369-6955-47f1-96a5-5453076f08d6\")>,\n",
       " <selenium.webdriver.remote.webelement.WebElement (session=\"88d9274bf218927f91f0180956ff56bb\", element=\"f88d32d9-3bd2-4172-aab7-6024efaebc4e\")>,\n",
       " <selenium.webdriver.remote.webelement.WebElement (session=\"88d9274bf218927f91f0180956ff56bb\", element=\"b5deff78-58f3-4dbf-8f31-b851ee90748b\")>,\n",
       " <selenium.webdriver.remote.webelement.WebElement (session=\"88d9274bf218927f91f0180956ff56bb\", element=\"4f71d126-d257-4c4c-8195-42b0c8a01845\")>,\n",
       " <selenium.webdriver.remote.webelement.WebElement (session=\"88d9274bf218927f91f0180956ff56bb\", element=\"e8dabda5-c720-4837-a2aa-afc5acb07c02\")>,\n",
       " <selenium.webdriver.remote.webelement.WebElement (session=\"88d9274bf218927f91f0180956ff56bb\", element=\"35f9ccd1-5bc8-40e4-b6a4-68fd37bf32d2\")>,\n",
       " <selenium.webdriver.remote.webelement.WebElement (session=\"88d9274bf218927f91f0180956ff56bb\", element=\"2fa9cb9c-188b-4ac1-ba05-8b63b3fa1aa2\")>,\n",
       " <selenium.webdriver.remote.webelement.WebElement (session=\"88d9274bf218927f91f0180956ff56bb\", element=\"45d40eed-8b11-4d50-9450-37749546773d\")>,\n",
       " <selenium.webdriver.remote.webelement.WebElement (session=\"88d9274bf218927f91f0180956ff56bb\", element=\"2ae1fd43-a03d-47cd-8a90-68e6c40a73cb\")>,\n",
       " <selenium.webdriver.remote.webelement.WebElement (session=\"88d9274bf218927f91f0180956ff56bb\", element=\"902542c1-57e0-4953-955d-96e0c3bcffcf\")>,\n",
       " <selenium.webdriver.remote.webelement.WebElement (session=\"88d9274bf218927f91f0180956ff56bb\", element=\"f387ba69-fa87-461d-81f8-ab8555a717a1\")>,\n",
       " <selenium.webdriver.remote.webelement.WebElement (session=\"88d9274bf218927f91f0180956ff56bb\", element=\"4c480fe0-7dc1-42d7-829a-fa0f7546e621\")>,\n",
       " <selenium.webdriver.remote.webelement.WebElement (session=\"88d9274bf218927f91f0180956ff56bb\", element=\"1e4762c6-9cdc-4240-b3d3-d82c30a47970\")>,\n",
       " <selenium.webdriver.remote.webelement.WebElement (session=\"88d9274bf218927f91f0180956ff56bb\", element=\"77be9a57-255e-437e-9fd0-60dbe59ba013\")>,\n",
       " <selenium.webdriver.remote.webelement.WebElement (session=\"88d9274bf218927f91f0180956ff56bb\", element=\"cfb8e4e0-29ee-4caa-add3-d807675ad936\")>,\n",
       " <selenium.webdriver.remote.webelement.WebElement (session=\"88d9274bf218927f91f0180956ff56bb\", element=\"042e67fd-03a4-489c-9070-f315c5aabe88\")>,\n",
       " <selenium.webdriver.remote.webelement.WebElement (session=\"88d9274bf218927f91f0180956ff56bb\", element=\"4cee7ab8-08d1-416e-ae85-480863ec7529\")>,\n",
       " <selenium.webdriver.remote.webelement.WebElement (session=\"88d9274bf218927f91f0180956ff56bb\", element=\"2ab9c17f-076c-499d-b0fe-d66beab520ed\")>,\n",
       " <selenium.webdriver.remote.webelement.WebElement (session=\"88d9274bf218927f91f0180956ff56bb\", element=\"427382de-b504-4983-b999-95e47dc6b102\")>,\n",
       " <selenium.webdriver.remote.webelement.WebElement (session=\"88d9274bf218927f91f0180956ff56bb\", element=\"6a0d1a03-ee18-41e6-bd03-de500a17852c\")>,\n",
       " <selenium.webdriver.remote.webelement.WebElement (session=\"88d9274bf218927f91f0180956ff56bb\", element=\"6dc194ad-f7b1-4d89-b3c0-63878f1bbbda\")>,\n",
       " <selenium.webdriver.remote.webelement.WebElement (session=\"88d9274bf218927f91f0180956ff56bb\", element=\"e91fcfcd-1b7f-40c0-958d-65dfc6505b87\")>,\n",
       " <selenium.webdriver.remote.webelement.WebElement (session=\"88d9274bf218927f91f0180956ff56bb\", element=\"05fd4c79-c399-47c1-b0a4-5193e8fc907a\")>,\n",
       " <selenium.webdriver.remote.webelement.WebElement (session=\"88d9274bf218927f91f0180956ff56bb\", element=\"447d5cf4-8b25-464e-b89d-2d4520773ca7\")>,\n",
       " <selenium.webdriver.remote.webelement.WebElement (session=\"88d9274bf218927f91f0180956ff56bb\", element=\"44f1c6a6-ca6f-4795-997c-88489f5b498b\")>,\n",
       " <selenium.webdriver.remote.webelement.WebElement (session=\"88d9274bf218927f91f0180956ff56bb\", element=\"258536ae-1b35-47a2-9bdc-bf849ed295e9\")>,\n",
       " <selenium.webdriver.remote.webelement.WebElement (session=\"88d9274bf218927f91f0180956ff56bb\", element=\"7aebc8a6-9d94-4e63-82f0-745859a5dd1a\")>,\n",
       " <selenium.webdriver.remote.webelement.WebElement (session=\"88d9274bf218927f91f0180956ff56bb\", element=\"061b9800-839d-43b5-b65b-b5d1c6a39788\")>,\n",
       " <selenium.webdriver.remote.webelement.WebElement (session=\"88d9274bf218927f91f0180956ff56bb\", element=\"3ffaac1d-0804-4d3a-a224-5539c7b49641\")>,\n",
       " <selenium.webdriver.remote.webelement.WebElement (session=\"88d9274bf218927f91f0180956ff56bb\", element=\"0200d76a-dd2a-4157-b598-a5f2986022b0\")>,\n",
       " <selenium.webdriver.remote.webelement.WebElement (session=\"88d9274bf218927f91f0180956ff56bb\", element=\"a444cc2b-e123-4bd1-8e35-02d52f39356e\")>,\n",
       " <selenium.webdriver.remote.webelement.WebElement (session=\"88d9274bf218927f91f0180956ff56bb\", element=\"aff897af-ce82-468d-a480-0271645eecb6\")>,\n",
       " <selenium.webdriver.remote.webelement.WebElement (session=\"88d9274bf218927f91f0180956ff56bb\", element=\"f2048537-969f-43fe-81bd-8e62439704d6\")>,\n",
       " <selenium.webdriver.remote.webelement.WebElement (session=\"88d9274bf218927f91f0180956ff56bb\", element=\"28a31060-0ebe-4ef9-9d35-ca15a1be4007\")>,\n",
       " <selenium.webdriver.remote.webelement.WebElement (session=\"88d9274bf218927f91f0180956ff56bb\", element=\"8ef96f9a-4024-4771-80c0-8aa62eacb823\")>,\n",
       " <selenium.webdriver.remote.webelement.WebElement (session=\"88d9274bf218927f91f0180956ff56bb\", element=\"012744a9-a86f-4d5a-baba-3cdd74fc45d0\")>]"
      ]
     },
     "execution_count": 84,
     "metadata": {},
     "output_type": "execute_result"
    }
   ],
   "source": [
    "tit = driver.find_elements(By.CLASS_NAME, 'usctitlechanged')\n",
    "tit"
   ]
  },
  {
   "cell_type": "code",
   "execution_count": 85,
   "metadata": {},
   "outputs": [
    {
     "data": {
      "text/plain": [
       "['Title 1 - General Provisions ٭',\n",
       " 'Title 2 - The Congress',\n",
       " 'Title 3 - The President ٭',\n",
       " 'Title 5 - Government Organization and Employees ٭',\n",
       " 'Title 6 - Domestic Security',\n",
       " 'Title 8 - Aliens and Nationality',\n",
       " 'Title 10 - Armed Forces ٭',\n",
       " 'Title 12 - Banks and Banking',\n",
       " 'Title 14 - Coast Guard ٭',\n",
       " 'Title 15 - Commerce and Trade',\n",
       " 'Title 16 - Conservation',\n",
       " 'Title 17 - Copyrights ٭',\n",
       " 'Title 18 - Crimes and Criminal Procedure ٭',\n",
       " 'Title 20 - Education',\n",
       " 'Title 21 - Food and Drugs',\n",
       " 'Title 22 - Foreign Relations and Intercourse',\n",
       " 'Title 25 - Indians',\n",
       " 'Title 26 - Internal Revenue Code',\n",
       " 'Title 28 - Judiciary and Judicial Procedure ٭',\n",
       " 'Title 29 - Labor',\n",
       " 'Title 31 - Money and Finance ٭',\n",
       " 'Title 32 - National Guard ٭',\n",
       " 'Title 33 - Navigation and Navigable Waters',\n",
       " 'Title 34 - Crime Control and Law Enforcement',\n",
       " 'Title 36 - Patriotic and National Observances, Ceremonies, and Organizations ٭',\n",
       " 'Title 37 - Pay and Allowances of the Uniformed Services ٭',\n",
       " \"Title 38 - Veterans' Benefits ٭\",\n",
       " 'Title 40 - Public Buildings, Property, and Works ٭',\n",
       " 'Title 41 - Public Contracts ٭',\n",
       " 'Title 42 - The Public Health and Welfare',\n",
       " 'Title 43 - Public Lands',\n",
       " 'Title 44 - Public Printing and Documents ٭',\n",
       " 'Title 46 - Shipping ٭',\n",
       " 'Title 48 - Territories and Insular Possessions',\n",
       " 'Title 49 - Transportation ٭',\n",
       " 'Title 50 - War and National Defense',\n",
       " 'Title 51 - National and Commercial Space Programs ٭']"
      ]
     },
     "execution_count": 85,
     "metadata": {},
     "output_type": "execute_result"
    }
   ],
   "source": [
    "titulo = []\n",
    "for i in tit:\n",
    "    i = i.text\n",
    "    titulo.append(i)\n",
    "titulo"
   ]
  },
  {
   "cell_type": "markdown",
   "metadata": {},
   "source": [
    "#### A Python list with the top ten FBI's Most Wanted names "
   ]
  },
  {
   "cell_type": "code",
   "execution_count": 86,
   "metadata": {},
   "outputs": [],
   "source": [
    "# This is the url you will scrape in this exercise\n",
    "url = 'https://www.fbi.gov/wanted/topten'"
   ]
  },
  {
   "cell_type": "code",
   "execution_count": 87,
   "metadata": {},
   "outputs": [],
   "source": [
    "PATH = ChromeDriverManager().install()    # instala driver de chrome\n",
    "\n",
    "driver = webdriver.Chrome(PATH)      # abre una ventana de chrome\n"
   ]
  },
  {
   "cell_type": "code",
   "execution_count": 88,
   "metadata": {},
   "outputs": [],
   "source": [
    "#your code \n",
    "driver.get(url)"
   ]
  },
  {
   "cell_type": "code",
   "execution_count": 89,
   "metadata": {},
   "outputs": [
    {
     "data": {
      "text/plain": [
       "[<selenium.webdriver.remote.webelement.WebElement (session=\"e83152aacf87a5cc9c4bd15fe0da6cc7\", element=\"604f19fb-12ef-43d0-8743-b092f2233a94\")>,\n",
       " <selenium.webdriver.remote.webelement.WebElement (session=\"e83152aacf87a5cc9c4bd15fe0da6cc7\", element=\"04b6fce3-4d0a-4fc2-bf14-fdc0442cfbb5\")>,\n",
       " <selenium.webdriver.remote.webelement.WebElement (session=\"e83152aacf87a5cc9c4bd15fe0da6cc7\", element=\"7110d3ba-d345-43bb-9a6e-de8cac591b32\")>,\n",
       " <selenium.webdriver.remote.webelement.WebElement (session=\"e83152aacf87a5cc9c4bd15fe0da6cc7\", element=\"8a233396-67ac-49d4-bc9c-8b58ab269910\")>,\n",
       " <selenium.webdriver.remote.webelement.WebElement (session=\"e83152aacf87a5cc9c4bd15fe0da6cc7\", element=\"4eb71ebc-6daf-4970-8906-e62903b54f08\")>,\n",
       " <selenium.webdriver.remote.webelement.WebElement (session=\"e83152aacf87a5cc9c4bd15fe0da6cc7\", element=\"51287cd5-7df4-4964-8071-0d0f0d90c0fb\")>,\n",
       " <selenium.webdriver.remote.webelement.WebElement (session=\"e83152aacf87a5cc9c4bd15fe0da6cc7\", element=\"b0f743de-05c8-47df-9be1-7852c2e515a4\")>,\n",
       " <selenium.webdriver.remote.webelement.WebElement (session=\"e83152aacf87a5cc9c4bd15fe0da6cc7\", element=\"09321141-6b9a-4372-93d1-8c28ce032d23\")>,\n",
       " <selenium.webdriver.remote.webelement.WebElement (session=\"e83152aacf87a5cc9c4bd15fe0da6cc7\", element=\"462f39db-69d4-45fa-9b55-30176cd731d3\")>,\n",
       " <selenium.webdriver.remote.webelement.WebElement (session=\"e83152aacf87a5cc9c4bd15fe0da6cc7\", element=\"7e426a3c-8a4a-4ac7-be52-07e50cf7ab9d\")>,\n",
       " <selenium.webdriver.remote.webelement.WebElement (session=\"e83152aacf87a5cc9c4bd15fe0da6cc7\", element=\"989c3f5d-456d-4862-8f87-888316cffc32\")>]"
      ]
     },
     "execution_count": 89,
     "metadata": {},
     "output_type": "execute_result"
    }
   ],
   "source": [
    "foto = driver.find_elements(By.CLASS_NAME, 'title')\n",
    "\n",
    "foto"
   ]
  },
  {
   "cell_type": "code",
   "execution_count": 90,
   "metadata": {},
   "outputs": [
    {
     "data": {
      "text/plain": [
       "['MOST WANTED',\n",
       " 'BHADRESHKUMAR CHETANBHAI PATEL',\n",
       " 'WILVER VILLEGAS-PALOMINO',\n",
       " 'ALEJANDRO ROSALES CASTILLO',\n",
       " 'RUJA IGNATOVA',\n",
       " 'ARNOLDO JIMENEZ',\n",
       " 'OMAR ALEXANDER CARDENAS',\n",
       " 'ALEXIS FLORES',\n",
       " 'YULAN ADONAY ARCHAGA CARIAS',\n",
       " 'MICHAEL JAMES PRATT',\n",
       " 'JOSE RODOLFO VILLARREAL-HERNANDEZ']"
      ]
     },
     "execution_count": 90,
     "metadata": {},
     "output_type": "execute_result"
    }
   ],
   "source": [
    "[e.text for e in foto]\n"
   ]
  },
  {
   "cell_type": "code",
   "execution_count": null,
   "metadata": {},
   "outputs": [],
   "source": []
  },
  {
   "cell_type": "markdown",
   "metadata": {},
   "source": [
    "####  20 latest earthquakes info (date, time, latitude, longitude and region name) by the EMSC as a pandas dataframe"
   ]
  },
  {
   "cell_type": "code",
   "execution_count": 91,
   "metadata": {},
   "outputs": [],
   "source": [
    "# This is the url you will scrape in this exercise\n",
    "url = 'https://www.emsc-csem.org/Earthquake/'"
   ]
  },
  {
   "cell_type": "code",
   "execution_count": 92,
   "metadata": {},
   "outputs": [],
   "source": [
    "#your code"
   ]
  },
  {
   "cell_type": "markdown",
   "metadata": {},
   "source": [
    "#### Count number of tweets by a given Twitter account."
   ]
  },
  {
   "cell_type": "markdown",
   "metadata": {},
   "source": [
    "You will need to include a ***try/except block*** for account names not found. \n",
    "<br>***Hint:*** the program should count the number of tweets for any provided account"
   ]
  },
  {
   "cell_type": "code",
   "execution_count": 93,
   "metadata": {},
   "outputs": [],
   "source": [
    "# This is the url you will scrape in this exercise \n",
    "# You will need to add the account credentials to this url\n",
    "url = 'https://twitter.com/ismanewells_'"
   ]
  },
  {
   "cell_type": "code",
   "execution_count": 94,
   "metadata": {},
   "outputs": [],
   "source": [
    "PATH = ChromeDriverManager().install()    # instala driver de chrome\n",
    "\n",
    "driver = webdriver.Chrome(PATH)      # abre una ventana de chrome\n"
   ]
  },
  {
   "cell_type": "code",
   "execution_count": 95,
   "metadata": {},
   "outputs": [],
   "source": [
    "#your code\n",
    "driver.get(url)"
   ]
  },
  {
   "cell_type": "code",
   "execution_count": 96,
   "metadata": {},
   "outputs": [
    {
     "data": {
      "text/plain": [
       "'27,1 mil Tweets'"
      ]
     },
     "execution_count": 96,
     "metadata": {},
     "output_type": "execute_result"
    }
   ],
   "source": [
    "tweets = driver.find_element(By.CSS_SELECTOR,'#react-root > div > div > div.css-1dbjc4n.r-18u37iz.r-13qz1uu.r-417010 > main > div > div > div > div > div > div.css-1dbjc4n.r-aqfbo4.r-gtdqiz.r-1gn8etr.r-1g40b8q > div:nth-child(1) > div > div > div > div > div > div.css-1dbjc4n.r-16y2uox.r-1wbh5a2.r-1pi2tsx.r-1777fci > div > div').text\n",
    "\n",
    "tweets"
   ]
  },
  {
   "cell_type": "code",
   "execution_count": null,
   "metadata": {},
   "outputs": [],
   "source": []
  },
  {
   "cell_type": "markdown",
   "metadata": {},
   "source": [
    "#### Number of followers of a given twitter account"
   ]
  },
  {
   "cell_type": "markdown",
   "metadata": {},
   "source": [
    "You will need to include a ***try/except block*** in case account/s name not found. \n",
    "<br>***Hint:*** the program should count the followers for any provided account"
   ]
  },
  {
   "cell_type": "code",
   "execution_count": 97,
   "metadata": {},
   "outputs": [],
   "source": [
    "# This is the url you will scrape in this exercise \n",
    "# You will need to add the account credentials to this url\n",
    "url = 'https://twitter.com/'"
   ]
  },
  {
   "cell_type": "code",
   "execution_count": 98,
   "metadata": {},
   "outputs": [],
   "source": [
    "#your code"
   ]
  },
  {
   "cell_type": "markdown",
   "metadata": {},
   "source": [
    "#### List all language names and number of related articles in the order they appear in wikipedia.org"
   ]
  },
  {
   "cell_type": "code",
   "execution_count": 172,
   "metadata": {},
   "outputs": [],
   "source": [
    "# This is the url you will scrape in this exercise\n",
    "url = 'https://www.wikipedia.org/'"
   ]
  },
  {
   "cell_type": "code",
   "execution_count": 174,
   "metadata": {},
   "outputs": [],
   "source": [
    "PATH = ChromeDriverManager().install()    # instala driver de chrome\n",
    "\n",
    "driver = webdriver.Chrome(PATH)      # abre una ventana de chrome\n",
    "\n"
   ]
  },
  {
   "cell_type": "code",
   "execution_count": 175,
   "metadata": {},
   "outputs": [],
   "source": [
    "driver.get(url)"
   ]
  },
  {
   "cell_type": "code",
   "execution_count": 179,
   "metadata": {},
   "outputs": [],
   "source": [
    "tabla = driver.find_element(By.CSS_SELECTOR, 'div.central-featured')\n",
    "\n",
    "wikis = tabla.find_elements(By.TAG_NAME,'strong')"
   ]
  },
  {
   "cell_type": "code",
   "execution_count": 180,
   "metadata": {},
   "outputs": [
    {
     "data": {
      "text/plain": [
       "['Español',\n",
       " 'English',\n",
       " 'Русский',\n",
       " '日本語',\n",
       " 'Deutsch',\n",
       " 'Français',\n",
       " 'Italiano',\n",
       " '中文',\n",
       " 'فارسی',\n",
       " 'Português']"
      ]
     },
     "execution_count": 180,
     "metadata": {},
     "output_type": "execute_result"
    }
   ],
   "source": [
    "[e.text for e in wikis]"
   ]
  },
  {
   "cell_type": "code",
   "execution_count": 198,
   "metadata": {},
   "outputs": [],
   "source": [
    "\n",
    "\n",
    "wikis1 = tabla.find_elements(By.TAG_NAME, 'small')\n"
   ]
  },
  {
   "cell_type": "code",
   "execution_count": 199,
   "metadata": {},
   "outputs": [
    {
     "data": {
      "text/plain": [
       "[]"
      ]
     },
     "execution_count": 199,
     "metadata": {},
     "output_type": "execute_result"
    }
   ],
   "source": [
    "[e.text for e in wikis1]"
   ]
  },
  {
   "cell_type": "markdown",
   "metadata": {},
   "source": [
    "#### A list with the different kind of datasets available in data.gov.uk "
   ]
  },
  {
   "cell_type": "code",
   "execution_count": null,
   "metadata": {},
   "outputs": [],
   "source": [
    "# This is the url you will scrape in this exercise\n",
    "url = 'https://data.gov.uk/'"
   ]
  },
  {
   "cell_type": "code",
   "execution_count": null,
   "metadata": {},
   "outputs": [],
   "source": []
  },
  {
   "cell_type": "code",
   "execution_count": null,
   "metadata": {},
   "outputs": [],
   "source": []
  },
  {
   "cell_type": "markdown",
   "metadata": {},
   "source": [
    "#### Top 10 languages by number of native speakers stored in a Pandas Dataframe"
   ]
  },
  {
   "cell_type": "code",
   "execution_count": null,
   "metadata": {},
   "outputs": [],
   "source": [
    "# This is the url you will scrape in this exercise\n",
    "url = 'https://en.wikipedia.org/wiki/List_of_languages_by_number_of_native_speakers'"
   ]
  },
  {
   "cell_type": "code",
   "execution_count": null,
   "metadata": {},
   "outputs": [],
   "source": [
    "#your code"
   ]
  },
  {
   "cell_type": "markdown",
   "metadata": {},
   "source": [
    "### BONUS QUESTIONS"
   ]
  },
  {
   "cell_type": "markdown",
   "metadata": {},
   "source": [
    "#### Scrape a certain number of tweets of a given Twitter account."
   ]
  },
  {
   "cell_type": "code",
   "execution_count": null,
   "metadata": {},
   "outputs": [],
   "source": [
    "# This is the url you will scrape in this exercise \n",
    "# You will need to add the account credentials to this url\n",
    "url = 'https://twitter.com/'"
   ]
  },
  {
   "cell_type": "code",
   "execution_count": null,
   "metadata": {},
   "outputs": [],
   "source": [
    "# your code"
   ]
  },
  {
   "cell_type": "markdown",
   "metadata": {},
   "source": [
    "#### IMDB's Top 250 data (movie name, Initial release, director name and stars) as a pandas dataframe"
   ]
  },
  {
   "cell_type": "code",
   "execution_count": null,
   "metadata": {},
   "outputs": [],
   "source": [
    "# This is the url you will scrape in this exercise \n",
    "url = 'https://www.imdb.com/chart/top'"
   ]
  },
  {
   "cell_type": "code",
   "execution_count": null,
   "metadata": {},
   "outputs": [],
   "source": [
    "# your code"
   ]
  },
  {
   "cell_type": "markdown",
   "metadata": {},
   "source": [
    "#### Movie name, year and a brief summary of the top 10 random movies (IMDB) as a pandas dataframe."
   ]
  },
  {
   "cell_type": "code",
   "execution_count": null,
   "metadata": {},
   "outputs": [],
   "source": [
    "#This is the url you will scrape in this exercise\n",
    "url = 'http://www.imdb.com/chart/top'"
   ]
  },
  {
   "cell_type": "code",
   "execution_count": null,
   "metadata": {},
   "outputs": [],
   "source": [
    "#your code"
   ]
  },
  {
   "cell_type": "markdown",
   "metadata": {},
   "source": [
    "#### Find the live weather report (temperature, wind speed, description and weather) of a given city."
   ]
  },
  {
   "cell_type": "code",
   "execution_count": null,
   "metadata": {},
   "outputs": [],
   "source": [
    "# your code"
   ]
  },
  {
   "cell_type": "markdown",
   "metadata": {},
   "source": [
    "#### Book name,price and stock availability as a pandas dataframe."
   ]
  },
  {
   "cell_type": "code",
   "execution_count": null,
   "metadata": {},
   "outputs": [],
   "source": [
    "#your code"
   ]
  }
 ],
 "metadata": {
  "kernelspec": {
   "display_name": "Python 3",
   "language": "python",
   "name": "python3"
  },
  "language_info": {
   "codemirror_mode": {
    "name": "ipython",
    "version": 3
   },
   "file_extension": ".py",
   "mimetype": "text/x-python",
   "name": "python",
   "nbconvert_exporter": "python",
   "pygments_lexer": "ipython3",
   "version": "3.10.9"
  }
 },
 "nbformat": 4,
 "nbformat_minor": 2
}
